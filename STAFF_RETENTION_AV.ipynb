{
 "cells": [
  {
   "cell_type": "code",
   "execution_count": 1,
   "id": "8d7d5aab",
   "metadata": {},
   "outputs": [],
   "source": [
    "##IMPORTING ESSENTIAL LIBRARIES\n",
    "\n",
    "import numpy as np\n",
    "import matplotlib.pyplot as plt\n",
    "import pandas as pd\n",
    "import datetime\n",
    "import seaborn as sns\n",
    "%matplotlib inline\n"
   ]
  },
  {
   "cell_type": "code",
   "execution_count": 2,
   "id": "5f55f087",
   "metadata": {},
   "outputs": [],
   "source": [
    "#IMPORTING THE DATASET \n",
    "df_train = pd.read_csv('train_staff.csv')\n",
    "df_test = pd.read_csv('test_staff.csv')\n"
   ]
  },
  {
   "cell_type": "markdown",
   "id": "fd590fbb",
   "metadata": {},
   "source": [
    "# DATA EXPLORATION\n"
   ]
  },
  {
   "cell_type": "code",
   "execution_count": 3,
   "id": "4653dbdb",
   "metadata": {},
   "outputs": [
    {
     "data": {
      "text/html": [
       "<div>\n",
       "<style scoped>\n",
       "    .dataframe tbody tr th:only-of-type {\n",
       "        vertical-align: middle;\n",
       "    }\n",
       "\n",
       "    .dataframe tbody tr th {\n",
       "        vertical-align: top;\n",
       "    }\n",
       "\n",
       "    .dataframe thead th {\n",
       "        text-align: right;\n",
       "    }\n",
       "</style>\n",
       "<table border=\"1\" class=\"dataframe\">\n",
       "  <thead>\n",
       "    <tr style=\"text-align: right;\">\n",
       "      <th></th>\n",
       "      <th>MMM-YY</th>\n",
       "      <th>Emp_ID</th>\n",
       "      <th>Age</th>\n",
       "      <th>Gender</th>\n",
       "      <th>City</th>\n",
       "      <th>Education_Level</th>\n",
       "      <th>Salary</th>\n",
       "      <th>Dateofjoining</th>\n",
       "      <th>LastWorkingDate</th>\n",
       "      <th>Joining Designation</th>\n",
       "      <th>Designation</th>\n",
       "      <th>Total Business Value</th>\n",
       "      <th>Quarterly Rating</th>\n",
       "    </tr>\n",
       "  </thead>\n",
       "  <tbody>\n",
       "    <tr>\n",
       "      <th>0</th>\n",
       "      <td>2016-01-01</td>\n",
       "      <td>1</td>\n",
       "      <td>28</td>\n",
       "      <td>Male</td>\n",
       "      <td>C23</td>\n",
       "      <td>Master</td>\n",
       "      <td>57387</td>\n",
       "      <td>2015-12-24</td>\n",
       "      <td>NaN</td>\n",
       "      <td>1</td>\n",
       "      <td>1</td>\n",
       "      <td>2381060</td>\n",
       "      <td>2</td>\n",
       "    </tr>\n",
       "    <tr>\n",
       "      <th>1</th>\n",
       "      <td>2016-02-01</td>\n",
       "      <td>1</td>\n",
       "      <td>28</td>\n",
       "      <td>Male</td>\n",
       "      <td>C23</td>\n",
       "      <td>Master</td>\n",
       "      <td>57387</td>\n",
       "      <td>2015-12-24</td>\n",
       "      <td>NaN</td>\n",
       "      <td>1</td>\n",
       "      <td>1</td>\n",
       "      <td>-665480</td>\n",
       "      <td>2</td>\n",
       "    </tr>\n",
       "    <tr>\n",
       "      <th>2</th>\n",
       "      <td>2016-03-01</td>\n",
       "      <td>1</td>\n",
       "      <td>28</td>\n",
       "      <td>Male</td>\n",
       "      <td>C23</td>\n",
       "      <td>Master</td>\n",
       "      <td>57387</td>\n",
       "      <td>2015-12-24</td>\n",
       "      <td>2016-03-11</td>\n",
       "      <td>1</td>\n",
       "      <td>1</td>\n",
       "      <td>0</td>\n",
       "      <td>2</td>\n",
       "    </tr>\n",
       "    <tr>\n",
       "      <th>3</th>\n",
       "      <td>2017-11-01</td>\n",
       "      <td>2</td>\n",
       "      <td>31</td>\n",
       "      <td>Male</td>\n",
       "      <td>C7</td>\n",
       "      <td>Master</td>\n",
       "      <td>67016</td>\n",
       "      <td>2017-11-06</td>\n",
       "      <td>NaN</td>\n",
       "      <td>2</td>\n",
       "      <td>2</td>\n",
       "      <td>0</td>\n",
       "      <td>1</td>\n",
       "    </tr>\n",
       "    <tr>\n",
       "      <th>4</th>\n",
       "      <td>2017-12-01</td>\n",
       "      <td>2</td>\n",
       "      <td>31</td>\n",
       "      <td>Male</td>\n",
       "      <td>C7</td>\n",
       "      <td>Master</td>\n",
       "      <td>67016</td>\n",
       "      <td>2017-11-06</td>\n",
       "      <td>NaN</td>\n",
       "      <td>2</td>\n",
       "      <td>2</td>\n",
       "      <td>0</td>\n",
       "      <td>1</td>\n",
       "    </tr>\n",
       "  </tbody>\n",
       "</table>\n",
       "</div>"
      ],
      "text/plain": [
       "       MMM-YY  Emp_ID  Age Gender City Education_Level  Salary Dateofjoining  \\\n",
       "0  2016-01-01       1   28   Male  C23          Master   57387    2015-12-24   \n",
       "1  2016-02-01       1   28   Male  C23          Master   57387    2015-12-24   \n",
       "2  2016-03-01       1   28   Male  C23          Master   57387    2015-12-24   \n",
       "3  2017-11-01       2   31   Male   C7          Master   67016    2017-11-06   \n",
       "4  2017-12-01       2   31   Male   C7          Master   67016    2017-11-06   \n",
       "\n",
       "  LastWorkingDate  Joining Designation  Designation  Total Business Value  \\\n",
       "0             NaN                    1            1               2381060   \n",
       "1             NaN                    1            1               -665480   \n",
       "2      2016-03-11                    1            1                     0   \n",
       "3             NaN                    2            2                     0   \n",
       "4             NaN                    2            2                     0   \n",
       "\n",
       "   Quarterly Rating  \n",
       "0                 2  \n",
       "1                 2  \n",
       "2                 2  \n",
       "3                 1  \n",
       "4                 1  "
      ]
     },
     "execution_count": 3,
     "metadata": {},
     "output_type": "execute_result"
    }
   ],
   "source": [
    "df_train.head()"
   ]
  },
  {
   "cell_type": "code",
   "execution_count": 4,
   "id": "50b90187",
   "metadata": {},
   "outputs": [
    {
     "data": {
      "text/html": [
       "<div>\n",
       "<style scoped>\n",
       "    .dataframe tbody tr th:only-of-type {\n",
       "        vertical-align: middle;\n",
       "    }\n",
       "\n",
       "    .dataframe tbody tr th {\n",
       "        vertical-align: top;\n",
       "    }\n",
       "\n",
       "    .dataframe thead th {\n",
       "        text-align: right;\n",
       "    }\n",
       "</style>\n",
       "<table border=\"1\" class=\"dataframe\">\n",
       "  <thead>\n",
       "    <tr style=\"text-align: right;\">\n",
       "      <th></th>\n",
       "      <th>Emp_ID</th>\n",
       "    </tr>\n",
       "  </thead>\n",
       "  <tbody>\n",
       "    <tr>\n",
       "      <th>0</th>\n",
       "      <td>394</td>\n",
       "    </tr>\n",
       "    <tr>\n",
       "      <th>1</th>\n",
       "      <td>173</td>\n",
       "    </tr>\n",
       "    <tr>\n",
       "      <th>2</th>\n",
       "      <td>1090</td>\n",
       "    </tr>\n",
       "    <tr>\n",
       "      <th>3</th>\n",
       "      <td>840</td>\n",
       "    </tr>\n",
       "    <tr>\n",
       "      <th>4</th>\n",
       "      <td>308</td>\n",
       "    </tr>\n",
       "  </tbody>\n",
       "</table>\n",
       "</div>"
      ],
      "text/plain": [
       "   Emp_ID\n",
       "0     394\n",
       "1     173\n",
       "2    1090\n",
       "3     840\n",
       "4     308"
      ]
     },
     "execution_count": 4,
     "metadata": {},
     "output_type": "execute_result"
    }
   ],
   "source": [
    "df_test.head()"
   ]
  },
  {
   "cell_type": "code",
   "execution_count": 5,
   "id": "f3d6efaf",
   "metadata": {},
   "outputs": [
    {
     "name": "stdout",
     "output_type": "stream",
     "text": [
      "<class 'pandas.core.frame.DataFrame'>\n",
      "RangeIndex: 19104 entries, 0 to 19103\n",
      "Data columns (total 13 columns):\n",
      " #   Column                Non-Null Count  Dtype \n",
      "---  ------                --------------  ----- \n",
      " 0   MMM-YY                19104 non-null  object\n",
      " 1   Emp_ID                19104 non-null  int64 \n",
      " 2   Age                   19104 non-null  int64 \n",
      " 3   Gender                19104 non-null  object\n",
      " 4   City                  19104 non-null  object\n",
      " 5   Education_Level       19104 non-null  object\n",
      " 6   Salary                19104 non-null  int64 \n",
      " 7   Dateofjoining         19104 non-null  object\n",
      " 8   LastWorkingDate       1616 non-null   object\n",
      " 9   Joining Designation   19104 non-null  int64 \n",
      " 10  Designation           19104 non-null  int64 \n",
      " 11  Total Business Value  19104 non-null  int64 \n",
      " 12  Quarterly Rating      19104 non-null  int64 \n",
      "dtypes: int64(7), object(6)\n",
      "memory usage: 1.9+ MB\n"
     ]
    }
   ],
   "source": [
    "df_train.info()"
   ]
  },
  {
   "cell_type": "code",
   "execution_count": 6,
   "id": "a8796f20",
   "metadata": {},
   "outputs": [
    {
     "data": {
      "text/html": [
       "<div>\n",
       "<style scoped>\n",
       "    .dataframe tbody tr th:only-of-type {\n",
       "        vertical-align: middle;\n",
       "    }\n",
       "\n",
       "    .dataframe tbody tr th {\n",
       "        vertical-align: top;\n",
       "    }\n",
       "\n",
       "    .dataframe thead th {\n",
       "        text-align: right;\n",
       "    }\n",
       "</style>\n",
       "<table border=\"1\" class=\"dataframe\">\n",
       "  <thead>\n",
       "    <tr style=\"text-align: right;\">\n",
       "      <th></th>\n",
       "      <th>Emp_ID</th>\n",
       "      <th>Age</th>\n",
       "      <th>Salary</th>\n",
       "      <th>Joining Designation</th>\n",
       "      <th>Designation</th>\n",
       "      <th>Total Business Value</th>\n",
       "      <th>Quarterly Rating</th>\n",
       "    </tr>\n",
       "  </thead>\n",
       "  <tbody>\n",
       "    <tr>\n",
       "      <th>count</th>\n",
       "      <td>19104.000000</td>\n",
       "      <td>19104.000000</td>\n",
       "      <td>19104.000000</td>\n",
       "      <td>19104.000000</td>\n",
       "      <td>19104.000000</td>\n",
       "      <td>1.910400e+04</td>\n",
       "      <td>19104.000000</td>\n",
       "    </tr>\n",
       "    <tr>\n",
       "      <th>mean</th>\n",
       "      <td>1415.591133</td>\n",
       "      <td>34.650283</td>\n",
       "      <td>65652.025126</td>\n",
       "      <td>1.690536</td>\n",
       "      <td>2.252670</td>\n",
       "      <td>5.716621e+05</td>\n",
       "      <td>2.008899</td>\n",
       "    </tr>\n",
       "    <tr>\n",
       "      <th>std</th>\n",
       "      <td>810.705321</td>\n",
       "      <td>6.264471</td>\n",
       "      <td>30914.515344</td>\n",
       "      <td>0.836984</td>\n",
       "      <td>1.026512</td>\n",
       "      <td>1.128312e+06</td>\n",
       "      <td>1.009832</td>\n",
       "    </tr>\n",
       "    <tr>\n",
       "      <th>min</th>\n",
       "      <td>1.000000</td>\n",
       "      <td>21.000000</td>\n",
       "      <td>10747.000000</td>\n",
       "      <td>1.000000</td>\n",
       "      <td>1.000000</td>\n",
       "      <td>-6.000000e+06</td>\n",
       "      <td>1.000000</td>\n",
       "    </tr>\n",
       "    <tr>\n",
       "      <th>25%</th>\n",
       "      <td>710.000000</td>\n",
       "      <td>30.000000</td>\n",
       "      <td>42383.000000</td>\n",
       "      <td>1.000000</td>\n",
       "      <td>1.000000</td>\n",
       "      <td>0.000000e+00</td>\n",
       "      <td>1.000000</td>\n",
       "    </tr>\n",
       "    <tr>\n",
       "      <th>50%</th>\n",
       "      <td>1417.000000</td>\n",
       "      <td>34.000000</td>\n",
       "      <td>60087.000000</td>\n",
       "      <td>1.000000</td>\n",
       "      <td>2.000000</td>\n",
       "      <td>2.500000e+05</td>\n",
       "      <td>2.000000</td>\n",
       "    </tr>\n",
       "    <tr>\n",
       "      <th>75%</th>\n",
       "      <td>2137.000000</td>\n",
       "      <td>39.000000</td>\n",
       "      <td>83969.000000</td>\n",
       "      <td>2.000000</td>\n",
       "      <td>3.000000</td>\n",
       "      <td>6.997000e+05</td>\n",
       "      <td>3.000000</td>\n",
       "    </tr>\n",
       "    <tr>\n",
       "      <th>max</th>\n",
       "      <td>2788.000000</td>\n",
       "      <td>58.000000</td>\n",
       "      <td>188418.000000</td>\n",
       "      <td>5.000000</td>\n",
       "      <td>5.000000</td>\n",
       "      <td>3.374772e+07</td>\n",
       "      <td>4.000000</td>\n",
       "    </tr>\n",
       "  </tbody>\n",
       "</table>\n",
       "</div>"
      ],
      "text/plain": [
       "             Emp_ID           Age         Salary  Joining Designation  \\\n",
       "count  19104.000000  19104.000000   19104.000000         19104.000000   \n",
       "mean    1415.591133     34.650283   65652.025126             1.690536   \n",
       "std      810.705321      6.264471   30914.515344             0.836984   \n",
       "min        1.000000     21.000000   10747.000000             1.000000   \n",
       "25%      710.000000     30.000000   42383.000000             1.000000   \n",
       "50%     1417.000000     34.000000   60087.000000             1.000000   \n",
       "75%     2137.000000     39.000000   83969.000000             2.000000   \n",
       "max     2788.000000     58.000000  188418.000000             5.000000   \n",
       "\n",
       "        Designation  Total Business Value  Quarterly Rating  \n",
       "count  19104.000000          1.910400e+04      19104.000000  \n",
       "mean       2.252670          5.716621e+05          2.008899  \n",
       "std        1.026512          1.128312e+06          1.009832  \n",
       "min        1.000000         -6.000000e+06          1.000000  \n",
       "25%        1.000000          0.000000e+00          1.000000  \n",
       "50%        2.000000          2.500000e+05          2.000000  \n",
       "75%        3.000000          6.997000e+05          3.000000  \n",
       "max        5.000000          3.374772e+07          4.000000  "
      ]
     },
     "execution_count": 6,
     "metadata": {},
     "output_type": "execute_result"
    }
   ],
   "source": [
    "df_train.describe()"
   ]
  },
  {
   "cell_type": "code",
   "execution_count": 7,
   "id": "2bd7646f",
   "metadata": {},
   "outputs": [
    {
     "data": {
      "text/html": [
       "<div>\n",
       "<style scoped>\n",
       "    .dataframe tbody tr th:only-of-type {\n",
       "        vertical-align: middle;\n",
       "    }\n",
       "\n",
       "    .dataframe tbody tr th {\n",
       "        vertical-align: top;\n",
       "    }\n",
       "\n",
       "    .dataframe thead th {\n",
       "        text-align: right;\n",
       "    }\n",
       "</style>\n",
       "<table border=\"1\" class=\"dataframe\">\n",
       "  <thead>\n",
       "    <tr style=\"text-align: right;\">\n",
       "      <th></th>\n",
       "      <th>Emp_ID</th>\n",
       "    </tr>\n",
       "  </thead>\n",
       "  <tbody>\n",
       "    <tr>\n",
       "      <th>count</th>\n",
       "      <td>741.000000</td>\n",
       "    </tr>\n",
       "    <tr>\n",
       "      <th>mean</th>\n",
       "      <td>1361.460189</td>\n",
       "    </tr>\n",
       "    <tr>\n",
       "      <th>std</th>\n",
       "      <td>808.745019</td>\n",
       "    </tr>\n",
       "    <tr>\n",
       "      <th>min</th>\n",
       "      <td>2.000000</td>\n",
       "    </tr>\n",
       "    <tr>\n",
       "      <th>25%</th>\n",
       "      <td>624.000000</td>\n",
       "    </tr>\n",
       "    <tr>\n",
       "      <th>50%</th>\n",
       "      <td>1316.000000</td>\n",
       "    </tr>\n",
       "    <tr>\n",
       "      <th>75%</th>\n",
       "      <td>2078.000000</td>\n",
       "    </tr>\n",
       "    <tr>\n",
       "      <th>max</th>\n",
       "      <td>2788.000000</td>\n",
       "    </tr>\n",
       "  </tbody>\n",
       "</table>\n",
       "</div>"
      ],
      "text/plain": [
       "            Emp_ID\n",
       "count   741.000000\n",
       "mean   1361.460189\n",
       "std     808.745019\n",
       "min       2.000000\n",
       "25%     624.000000\n",
       "50%    1316.000000\n",
       "75%    2078.000000\n",
       "max    2788.000000"
      ]
     },
     "execution_count": 7,
     "metadata": {},
     "output_type": "execute_result"
    }
   ],
   "source": [
    "df_test.describe()"
   ]
  },
  {
   "cell_type": "code",
   "execution_count": 8,
   "id": "d97fc9c7",
   "metadata": {},
   "outputs": [
    {
     "data": {
      "text/plain": [
       "MMM-YY                   0.000000\n",
       "Emp_ID                   0.000000\n",
       "Age                      0.000000\n",
       "Gender                   0.000000\n",
       "City                     0.000000\n",
       "Education_Level          0.000000\n",
       "Salary                   0.000000\n",
       "Dateofjoining            0.000000\n",
       "LastWorkingDate         91.541039\n",
       "Joining Designation      0.000000\n",
       "Designation              0.000000\n",
       "Total Business Value     0.000000\n",
       "Quarterly Rating         0.000000\n",
       "dtype: float64"
      ]
     },
     "execution_count": 8,
     "metadata": {},
     "output_type": "execute_result"
    }
   ],
   "source": [
    "#MISSING VALUE PERCENTAGE\n",
    "\n",
    "percent_missing = df_train.isnull().sum()*100/len(df_train)\n",
    "percent_missing"
   ]
  },
  {
   "cell_type": "markdown",
   "id": "466eb82a",
   "metadata": {},
   "source": [
    "NO MISSING VALUES FOUND EXCEPT THE COLUMN 'LastWorkingDate' WHICH IS HAVING 91.54% MISSING VALUES.\n",
    "THIS COLUMN CAN BE DROPPED AS NO. OF MONTHS THE EMPLOYEE HAS WORKED CAN BE FOUND OUT BY 'MMM-YY' COLUMN.\n",
    "THE MONTH IN WHICH THE EMPLOYEE REPORTED LASTLY WOULD BE HIS/HER LAST WORKING MONTH"
   ]
  },
  {
   "cell_type": "code",
   "execution_count": 9,
   "id": "4cb7eb01",
   "metadata": {},
   "outputs": [
    {
     "data": {
      "text/plain": [
       "array(['Master', 'College', 'Bachelor'], dtype=object)"
      ]
     },
     "execution_count": 9,
     "metadata": {},
     "output_type": "execute_result"
    }
   ],
   "source": [
    "df_train['Education_Level'].unique()"
   ]
  },
  {
   "cell_type": "code",
   "execution_count": 10,
   "id": "e97eabbd",
   "metadata": {},
   "outputs": [
    {
     "data": {
      "text/plain": [
       "array(['Male', 'Female'], dtype=object)"
      ]
     },
     "execution_count": 10,
     "metadata": {},
     "output_type": "execute_result"
    }
   ],
   "source": [
    "df_train['Gender'].unique()"
   ]
  },
  {
   "cell_type": "code",
   "execution_count": 11,
   "id": "0b2979d7",
   "metadata": {},
   "outputs": [
    {
     "data": {
      "text/plain": [
       "array(['C23', 'C7', 'C13', 'C9', 'C11', 'C2', 'C19', 'C26', 'C20', 'C17',\n",
       "       'C29', 'C10', 'C24', 'C14', 'C6', 'C28', 'C5', 'C18', 'C27', 'C15',\n",
       "       'C8', 'C25', 'C21', 'C1', 'C4', 'C3', 'C16', 'C22', 'C12'],\n",
       "      dtype=object)"
      ]
     },
     "execution_count": 11,
     "metadata": {},
     "output_type": "execute_result"
    }
   ],
   "source": [
    "df_train['City'].unique()"
   ]
  },
  {
   "cell_type": "markdown",
   "id": "d8f611b5",
   "metadata": {},
   "source": [
    "THERE ARE 3 CATEGORICAL VARIABLES , NAMELY City,Gender & Education_Level.\n",
    "THESE CATEGORICAL VARIABLES HAVE VERY LESS CATEGORIES THUS CAN BE LABEL ENCODED TO BE DEALT WITH"
   ]
  },
  {
   "cell_type": "markdown",
   "id": "9fd6c65c",
   "metadata": {},
   "source": [
    "# DATA PREPROCESSING  AND FEATURE ELIMINATION\n"
   ]
  },
  {
   "cell_type": "markdown",
   "id": "6658cf2a",
   "metadata": {},
   "source": [
    " DROPPING THE COLUMN 'LastWorkingDate'"
   ]
  },
  {
   "cell_type": "code",
   "execution_count": 12,
   "id": "31980e80",
   "metadata": {},
   "outputs": [],
   "source": [
    "df_train.drop(['LastWorkingDate'],axis = 1, inplace = True)"
   ]
  },
  {
   "cell_type": "code",
   "execution_count": 13,
   "id": "7ba26f0c",
   "metadata": {},
   "outputs": [
    {
     "data": {
      "text/html": [
       "<div>\n",
       "<style scoped>\n",
       "    .dataframe tbody tr th:only-of-type {\n",
       "        vertical-align: middle;\n",
       "    }\n",
       "\n",
       "    .dataframe tbody tr th {\n",
       "        vertical-align: top;\n",
       "    }\n",
       "\n",
       "    .dataframe thead th {\n",
       "        text-align: right;\n",
       "    }\n",
       "</style>\n",
       "<table border=\"1\" class=\"dataframe\">\n",
       "  <thead>\n",
       "    <tr style=\"text-align: right;\">\n",
       "      <th></th>\n",
       "      <th>MMM-YY</th>\n",
       "      <th>Emp_ID</th>\n",
       "      <th>Age</th>\n",
       "      <th>Gender</th>\n",
       "      <th>City</th>\n",
       "      <th>Education_Level</th>\n",
       "      <th>Salary</th>\n",
       "      <th>Dateofjoining</th>\n",
       "      <th>Joining Designation</th>\n",
       "      <th>Designation</th>\n",
       "      <th>Total Business Value</th>\n",
       "      <th>Quarterly Rating</th>\n",
       "    </tr>\n",
       "  </thead>\n",
       "  <tbody>\n",
       "    <tr>\n",
       "      <th>0</th>\n",
       "      <td>2016-01-01</td>\n",
       "      <td>1</td>\n",
       "      <td>28</td>\n",
       "      <td>Male</td>\n",
       "      <td>C23</td>\n",
       "      <td>Master</td>\n",
       "      <td>57387</td>\n",
       "      <td>2015-12-24</td>\n",
       "      <td>1</td>\n",
       "      <td>1</td>\n",
       "      <td>2381060</td>\n",
       "      <td>2</td>\n",
       "    </tr>\n",
       "    <tr>\n",
       "      <th>1</th>\n",
       "      <td>2016-02-01</td>\n",
       "      <td>1</td>\n",
       "      <td>28</td>\n",
       "      <td>Male</td>\n",
       "      <td>C23</td>\n",
       "      <td>Master</td>\n",
       "      <td>57387</td>\n",
       "      <td>2015-12-24</td>\n",
       "      <td>1</td>\n",
       "      <td>1</td>\n",
       "      <td>-665480</td>\n",
       "      <td>2</td>\n",
       "    </tr>\n",
       "    <tr>\n",
       "      <th>2</th>\n",
       "      <td>2016-03-01</td>\n",
       "      <td>1</td>\n",
       "      <td>28</td>\n",
       "      <td>Male</td>\n",
       "      <td>C23</td>\n",
       "      <td>Master</td>\n",
       "      <td>57387</td>\n",
       "      <td>2015-12-24</td>\n",
       "      <td>1</td>\n",
       "      <td>1</td>\n",
       "      <td>0</td>\n",
       "      <td>2</td>\n",
       "    </tr>\n",
       "    <tr>\n",
       "      <th>3</th>\n",
       "      <td>2017-11-01</td>\n",
       "      <td>2</td>\n",
       "      <td>31</td>\n",
       "      <td>Male</td>\n",
       "      <td>C7</td>\n",
       "      <td>Master</td>\n",
       "      <td>67016</td>\n",
       "      <td>2017-11-06</td>\n",
       "      <td>2</td>\n",
       "      <td>2</td>\n",
       "      <td>0</td>\n",
       "      <td>1</td>\n",
       "    </tr>\n",
       "    <tr>\n",
       "      <th>4</th>\n",
       "      <td>2017-12-01</td>\n",
       "      <td>2</td>\n",
       "      <td>31</td>\n",
       "      <td>Male</td>\n",
       "      <td>C7</td>\n",
       "      <td>Master</td>\n",
       "      <td>67016</td>\n",
       "      <td>2017-11-06</td>\n",
       "      <td>2</td>\n",
       "      <td>2</td>\n",
       "      <td>0</td>\n",
       "      <td>1</td>\n",
       "    </tr>\n",
       "  </tbody>\n",
       "</table>\n",
       "</div>"
      ],
      "text/plain": [
       "       MMM-YY  Emp_ID  Age Gender City Education_Level  Salary Dateofjoining  \\\n",
       "0  2016-01-01       1   28   Male  C23          Master   57387    2015-12-24   \n",
       "1  2016-02-01       1   28   Male  C23          Master   57387    2015-12-24   \n",
       "2  2016-03-01       1   28   Male  C23          Master   57387    2015-12-24   \n",
       "3  2017-11-01       2   31   Male   C7          Master   67016    2017-11-06   \n",
       "4  2017-12-01       2   31   Male   C7          Master   67016    2017-11-06   \n",
       "\n",
       "   Joining Designation  Designation  Total Business Value  Quarterly Rating  \n",
       "0                    1            1               2381060                 2  \n",
       "1                    1            1               -665480                 2  \n",
       "2                    1            1                     0                 2  \n",
       "3                    2            2                     0                 1  \n",
       "4                    2            2                     0                 1  "
      ]
     },
     "execution_count": 13,
     "metadata": {},
     "output_type": "execute_result"
    }
   ],
   "source": [
    "df_train.head()"
   ]
  },
  {
   "cell_type": "markdown",
   "id": "6ec69955",
   "metadata": {},
   "source": [
    "LABEL ENCODING THE CATEGORICAL VARIABLES Gender, City & Education_Level"
   ]
  },
  {
   "cell_type": "code",
   "execution_count": 14,
   "id": "482ffdac",
   "metadata": {},
   "outputs": [],
   "source": [
    "from sklearn.preprocessing import LabelEncoder\n",
    "le = LabelEncoder()\n",
    "df_train['Gender'] = le.fit_transform(df_train['Gender'])"
   ]
  },
  {
   "cell_type": "code",
   "execution_count": 15,
   "id": "a317954b",
   "metadata": {},
   "outputs": [],
   "source": [
    "le = LabelEncoder()\n",
    "df_train['City'] = le.fit_transform(df_train['City'])"
   ]
  },
  {
   "cell_type": "code",
   "execution_count": 16,
   "id": "3e42701c",
   "metadata": {},
   "outputs": [],
   "source": [
    "le = LabelEncoder()\n",
    "df_train['Education_Level'] = le.fit_transform(df_train['Education_Level'])"
   ]
  },
  {
   "cell_type": "code",
   "execution_count": 17,
   "id": "4ff77035",
   "metadata": {},
   "outputs": [
    {
     "data": {
      "text/html": [
       "<div>\n",
       "<style scoped>\n",
       "    .dataframe tbody tr th:only-of-type {\n",
       "        vertical-align: middle;\n",
       "    }\n",
       "\n",
       "    .dataframe tbody tr th {\n",
       "        vertical-align: top;\n",
       "    }\n",
       "\n",
       "    .dataframe thead th {\n",
       "        text-align: right;\n",
       "    }\n",
       "</style>\n",
       "<table border=\"1\" class=\"dataframe\">\n",
       "  <thead>\n",
       "    <tr style=\"text-align: right;\">\n",
       "      <th></th>\n",
       "      <th>MMM-YY</th>\n",
       "      <th>Emp_ID</th>\n",
       "      <th>Age</th>\n",
       "      <th>Gender</th>\n",
       "      <th>City</th>\n",
       "      <th>Education_Level</th>\n",
       "      <th>Salary</th>\n",
       "      <th>Dateofjoining</th>\n",
       "      <th>Joining Designation</th>\n",
       "      <th>Designation</th>\n",
       "      <th>Total Business Value</th>\n",
       "      <th>Quarterly Rating</th>\n",
       "    </tr>\n",
       "  </thead>\n",
       "  <tbody>\n",
       "    <tr>\n",
       "      <th>0</th>\n",
       "      <td>2016-01-01</td>\n",
       "      <td>1</td>\n",
       "      <td>28</td>\n",
       "      <td>1</td>\n",
       "      <td>15</td>\n",
       "      <td>2</td>\n",
       "      <td>57387</td>\n",
       "      <td>2015-12-24</td>\n",
       "      <td>1</td>\n",
       "      <td>1</td>\n",
       "      <td>2381060</td>\n",
       "      <td>2</td>\n",
       "    </tr>\n",
       "    <tr>\n",
       "      <th>1</th>\n",
       "      <td>2016-02-01</td>\n",
       "      <td>1</td>\n",
       "      <td>28</td>\n",
       "      <td>1</td>\n",
       "      <td>15</td>\n",
       "      <td>2</td>\n",
       "      <td>57387</td>\n",
       "      <td>2015-12-24</td>\n",
       "      <td>1</td>\n",
       "      <td>1</td>\n",
       "      <td>-665480</td>\n",
       "      <td>2</td>\n",
       "    </tr>\n",
       "    <tr>\n",
       "      <th>2</th>\n",
       "      <td>2016-03-01</td>\n",
       "      <td>1</td>\n",
       "      <td>28</td>\n",
       "      <td>1</td>\n",
       "      <td>15</td>\n",
       "      <td>2</td>\n",
       "      <td>57387</td>\n",
       "      <td>2015-12-24</td>\n",
       "      <td>1</td>\n",
       "      <td>1</td>\n",
       "      <td>0</td>\n",
       "      <td>2</td>\n",
       "    </tr>\n",
       "    <tr>\n",
       "      <th>3</th>\n",
       "      <td>2017-11-01</td>\n",
       "      <td>2</td>\n",
       "      <td>31</td>\n",
       "      <td>1</td>\n",
       "      <td>26</td>\n",
       "      <td>2</td>\n",
       "      <td>67016</td>\n",
       "      <td>2017-11-06</td>\n",
       "      <td>2</td>\n",
       "      <td>2</td>\n",
       "      <td>0</td>\n",
       "      <td>1</td>\n",
       "    </tr>\n",
       "    <tr>\n",
       "      <th>4</th>\n",
       "      <td>2017-12-01</td>\n",
       "      <td>2</td>\n",
       "      <td>31</td>\n",
       "      <td>1</td>\n",
       "      <td>26</td>\n",
       "      <td>2</td>\n",
       "      <td>67016</td>\n",
       "      <td>2017-11-06</td>\n",
       "      <td>2</td>\n",
       "      <td>2</td>\n",
       "      <td>0</td>\n",
       "      <td>1</td>\n",
       "    </tr>\n",
       "  </tbody>\n",
       "</table>\n",
       "</div>"
      ],
      "text/plain": [
       "       MMM-YY  Emp_ID  Age  Gender  City  Education_Level  Salary  \\\n",
       "0  2016-01-01       1   28       1    15                2   57387   \n",
       "1  2016-02-01       1   28       1    15                2   57387   \n",
       "2  2016-03-01       1   28       1    15                2   57387   \n",
       "3  2017-11-01       2   31       1    26                2   67016   \n",
       "4  2017-12-01       2   31       1    26                2   67016   \n",
       "\n",
       "  Dateofjoining  Joining Designation  Designation  Total Business Value  \\\n",
       "0    2015-12-24                    1            1               2381060   \n",
       "1    2015-12-24                    1            1               -665480   \n",
       "2    2015-12-24                    1            1                     0   \n",
       "3    2017-11-06                    2            2                     0   \n",
       "4    2017-11-06                    2            2                     0   \n",
       "\n",
       "   Quarterly Rating  \n",
       "0                 2  \n",
       "1                 2  \n",
       "2                 2  \n",
       "3                 1  \n",
       "4                 1  "
      ]
     },
     "execution_count": 17,
     "metadata": {},
     "output_type": "execute_result"
    }
   ],
   "source": [
    "df_train.head()"
   ]
  },
  {
   "cell_type": "markdown",
   "id": "2f984fb9",
   "metadata": {},
   "source": [
    "HANDLING THE DATETIME FEATURES"
   ]
  },
  {
   "cell_type": "code",
   "execution_count": 18,
   "id": "a8c558e2",
   "metadata": {},
   "outputs": [],
   "source": [
    "df_train['Reporting_Year'] = pd.to_datetime(df_train['MMM-YY']).dt.year\n",
    "df_train['Reporting_Month'] = pd.to_datetime(df_train['MMM-YY']).dt.month\n",
    "df_train['Reporting_day'] = pd.to_datetime(df_train['MMM-YY']).dt.day"
   ]
  },
  {
   "cell_type": "code",
   "execution_count": 19,
   "id": "d3db6b01",
   "metadata": {},
   "outputs": [],
   "source": [
    "df_train['Joining_Year'] = pd.to_datetime(df_train['Dateofjoining']).dt.year\n",
    "df_train['Joining_Month'] = pd.to_datetime(df_train['Dateofjoining']).dt.month\n",
    "df_train['Joining_day'] = pd.to_datetime(df_train['Dateofjoining']).dt.day"
   ]
  },
  {
   "cell_type": "code",
   "execution_count": 20,
   "id": "05130451",
   "metadata": {},
   "outputs": [
    {
     "data": {
      "text/html": [
       "<div>\n",
       "<style scoped>\n",
       "    .dataframe tbody tr th:only-of-type {\n",
       "        vertical-align: middle;\n",
       "    }\n",
       "\n",
       "    .dataframe tbody tr th {\n",
       "        vertical-align: top;\n",
       "    }\n",
       "\n",
       "    .dataframe thead th {\n",
       "        text-align: right;\n",
       "    }\n",
       "</style>\n",
       "<table border=\"1\" class=\"dataframe\">\n",
       "  <thead>\n",
       "    <tr style=\"text-align: right;\">\n",
       "      <th></th>\n",
       "      <th>MMM-YY</th>\n",
       "      <th>Emp_ID</th>\n",
       "      <th>Age</th>\n",
       "      <th>Gender</th>\n",
       "      <th>City</th>\n",
       "      <th>Education_Level</th>\n",
       "      <th>Salary</th>\n",
       "      <th>Dateofjoining</th>\n",
       "      <th>Joining Designation</th>\n",
       "      <th>Designation</th>\n",
       "      <th>Total Business Value</th>\n",
       "      <th>Quarterly Rating</th>\n",
       "      <th>Reporting_Year</th>\n",
       "      <th>Reporting_Month</th>\n",
       "      <th>Reporting_day</th>\n",
       "      <th>Joining_Year</th>\n",
       "      <th>Joining_Month</th>\n",
       "      <th>Joining_day</th>\n",
       "    </tr>\n",
       "  </thead>\n",
       "  <tbody>\n",
       "    <tr>\n",
       "      <th>0</th>\n",
       "      <td>2016-01-01</td>\n",
       "      <td>1</td>\n",
       "      <td>28</td>\n",
       "      <td>1</td>\n",
       "      <td>15</td>\n",
       "      <td>2</td>\n",
       "      <td>57387</td>\n",
       "      <td>2015-12-24</td>\n",
       "      <td>1</td>\n",
       "      <td>1</td>\n",
       "      <td>2381060</td>\n",
       "      <td>2</td>\n",
       "      <td>2016</td>\n",
       "      <td>1</td>\n",
       "      <td>1</td>\n",
       "      <td>2015</td>\n",
       "      <td>12</td>\n",
       "      <td>24</td>\n",
       "    </tr>\n",
       "    <tr>\n",
       "      <th>1</th>\n",
       "      <td>2016-02-01</td>\n",
       "      <td>1</td>\n",
       "      <td>28</td>\n",
       "      <td>1</td>\n",
       "      <td>15</td>\n",
       "      <td>2</td>\n",
       "      <td>57387</td>\n",
       "      <td>2015-12-24</td>\n",
       "      <td>1</td>\n",
       "      <td>1</td>\n",
       "      <td>-665480</td>\n",
       "      <td>2</td>\n",
       "      <td>2016</td>\n",
       "      <td>2</td>\n",
       "      <td>1</td>\n",
       "      <td>2015</td>\n",
       "      <td>12</td>\n",
       "      <td>24</td>\n",
       "    </tr>\n",
       "    <tr>\n",
       "      <th>2</th>\n",
       "      <td>2016-03-01</td>\n",
       "      <td>1</td>\n",
       "      <td>28</td>\n",
       "      <td>1</td>\n",
       "      <td>15</td>\n",
       "      <td>2</td>\n",
       "      <td>57387</td>\n",
       "      <td>2015-12-24</td>\n",
       "      <td>1</td>\n",
       "      <td>1</td>\n",
       "      <td>0</td>\n",
       "      <td>2</td>\n",
       "      <td>2016</td>\n",
       "      <td>3</td>\n",
       "      <td>1</td>\n",
       "      <td>2015</td>\n",
       "      <td>12</td>\n",
       "      <td>24</td>\n",
       "    </tr>\n",
       "    <tr>\n",
       "      <th>3</th>\n",
       "      <td>2017-11-01</td>\n",
       "      <td>2</td>\n",
       "      <td>31</td>\n",
       "      <td>1</td>\n",
       "      <td>26</td>\n",
       "      <td>2</td>\n",
       "      <td>67016</td>\n",
       "      <td>2017-11-06</td>\n",
       "      <td>2</td>\n",
       "      <td>2</td>\n",
       "      <td>0</td>\n",
       "      <td>1</td>\n",
       "      <td>2017</td>\n",
       "      <td>11</td>\n",
       "      <td>1</td>\n",
       "      <td>2017</td>\n",
       "      <td>11</td>\n",
       "      <td>6</td>\n",
       "    </tr>\n",
       "    <tr>\n",
       "      <th>4</th>\n",
       "      <td>2017-12-01</td>\n",
       "      <td>2</td>\n",
       "      <td>31</td>\n",
       "      <td>1</td>\n",
       "      <td>26</td>\n",
       "      <td>2</td>\n",
       "      <td>67016</td>\n",
       "      <td>2017-11-06</td>\n",
       "      <td>2</td>\n",
       "      <td>2</td>\n",
       "      <td>0</td>\n",
       "      <td>1</td>\n",
       "      <td>2017</td>\n",
       "      <td>12</td>\n",
       "      <td>1</td>\n",
       "      <td>2017</td>\n",
       "      <td>11</td>\n",
       "      <td>6</td>\n",
       "    </tr>\n",
       "  </tbody>\n",
       "</table>\n",
       "</div>"
      ],
      "text/plain": [
       "       MMM-YY  Emp_ID  Age  Gender  City  Education_Level  Salary  \\\n",
       "0  2016-01-01       1   28       1    15                2   57387   \n",
       "1  2016-02-01       1   28       1    15                2   57387   \n",
       "2  2016-03-01       1   28       1    15                2   57387   \n",
       "3  2017-11-01       2   31       1    26                2   67016   \n",
       "4  2017-12-01       2   31       1    26                2   67016   \n",
       "\n",
       "  Dateofjoining  Joining Designation  Designation  Total Business Value  \\\n",
       "0    2015-12-24                    1            1               2381060   \n",
       "1    2015-12-24                    1            1               -665480   \n",
       "2    2015-12-24                    1            1                     0   \n",
       "3    2017-11-06                    2            2                     0   \n",
       "4    2017-11-06                    2            2                     0   \n",
       "\n",
       "   Quarterly Rating  Reporting_Year  Reporting_Month  Reporting_day  \\\n",
       "0                 2            2016                1              1   \n",
       "1                 2            2016                2              1   \n",
       "2                 2            2016                3              1   \n",
       "3                 1            2017               11              1   \n",
       "4                 1            2017               12              1   \n",
       "\n",
       "   Joining_Year  Joining_Month  Joining_day  \n",
       "0          2015             12           24  \n",
       "1          2015             12           24  \n",
       "2          2015             12           24  \n",
       "3          2017             11            6  \n",
       "4          2017             11            6  "
      ]
     },
     "execution_count": 20,
     "metadata": {},
     "output_type": "execute_result"
    }
   ],
   "source": [
    "df_train.head()"
   ]
  },
  {
   "cell_type": "code",
   "execution_count": 21,
   "id": "7dda7075",
   "metadata": {},
   "outputs": [
    {
     "name": "stdout",
     "output_type": "stream",
     "text": [
      "<class 'pandas.core.frame.DataFrame'>\n",
      "RangeIndex: 19104 entries, 0 to 19103\n",
      "Data columns (total 18 columns):\n",
      " #   Column                Non-Null Count  Dtype \n",
      "---  ------                --------------  ----- \n",
      " 0   MMM-YY                19104 non-null  object\n",
      " 1   Emp_ID                19104 non-null  int64 \n",
      " 2   Age                   19104 non-null  int64 \n",
      " 3   Gender                19104 non-null  int32 \n",
      " 4   City                  19104 non-null  int32 \n",
      " 5   Education_Level       19104 non-null  int32 \n",
      " 6   Salary                19104 non-null  int64 \n",
      " 7   Dateofjoining         19104 non-null  object\n",
      " 8   Joining Designation   19104 non-null  int64 \n",
      " 9   Designation           19104 non-null  int64 \n",
      " 10  Total Business Value  19104 non-null  int64 \n",
      " 11  Quarterly Rating      19104 non-null  int64 \n",
      " 12  Reporting_Year        19104 non-null  int64 \n",
      " 13  Reporting_Month       19104 non-null  int64 \n",
      " 14  Reporting_day         19104 non-null  int64 \n",
      " 15  Joining_Year          19104 non-null  int64 \n",
      " 16  Joining_Month         19104 non-null  int64 \n",
      " 17  Joining_day           19104 non-null  int64 \n",
      "dtypes: int32(3), int64(13), object(2)\n",
      "memory usage: 2.4+ MB\n"
     ]
    }
   ],
   "source": [
    "df_train.info()"
   ]
  },
  {
   "cell_type": "markdown",
   "id": "4f078090",
   "metadata": {},
   "source": [
    "NOW AS BOTH THE DATETIME FEATURES ARE BROKEN DOWN INTO dtype int\n",
    "HENCE BOTH THE ORIGINAL DATETIME FEATURES CAN BE REMOVED"
   ]
  },
  {
   "cell_type": "code",
   "execution_count": 22,
   "id": "5ff976e2",
   "metadata": {},
   "outputs": [],
   "source": [
    "df_train.drop(['MMM-YY'],axis = 1, inplace = True)"
   ]
  },
  {
   "cell_type": "code",
   "execution_count": 23,
   "id": "5ddde42b",
   "metadata": {},
   "outputs": [],
   "source": [
    "df_train.drop(['Dateofjoining'],axis = 1, inplace = True)"
   ]
  },
  {
   "cell_type": "code",
   "execution_count": 24,
   "id": "8b6a494b",
   "metadata": {},
   "outputs": [
    {
     "data": {
      "text/html": [
       "<div>\n",
       "<style scoped>\n",
       "    .dataframe tbody tr th:only-of-type {\n",
       "        vertical-align: middle;\n",
       "    }\n",
       "\n",
       "    .dataframe tbody tr th {\n",
       "        vertical-align: top;\n",
       "    }\n",
       "\n",
       "    .dataframe thead th {\n",
       "        text-align: right;\n",
       "    }\n",
       "</style>\n",
       "<table border=\"1\" class=\"dataframe\">\n",
       "  <thead>\n",
       "    <tr style=\"text-align: right;\">\n",
       "      <th></th>\n",
       "      <th>Emp_ID</th>\n",
       "      <th>Age</th>\n",
       "      <th>Gender</th>\n",
       "      <th>City</th>\n",
       "      <th>Education_Level</th>\n",
       "      <th>Salary</th>\n",
       "      <th>Joining Designation</th>\n",
       "      <th>Designation</th>\n",
       "      <th>Total Business Value</th>\n",
       "      <th>Quarterly Rating</th>\n",
       "      <th>Reporting_Year</th>\n",
       "      <th>Reporting_Month</th>\n",
       "      <th>Reporting_day</th>\n",
       "      <th>Joining_Year</th>\n",
       "      <th>Joining_Month</th>\n",
       "      <th>Joining_day</th>\n",
       "    </tr>\n",
       "  </thead>\n",
       "  <tbody>\n",
       "    <tr>\n",
       "      <th>0</th>\n",
       "      <td>1</td>\n",
       "      <td>28</td>\n",
       "      <td>1</td>\n",
       "      <td>15</td>\n",
       "      <td>2</td>\n",
       "      <td>57387</td>\n",
       "      <td>1</td>\n",
       "      <td>1</td>\n",
       "      <td>2381060</td>\n",
       "      <td>2</td>\n",
       "      <td>2016</td>\n",
       "      <td>1</td>\n",
       "      <td>1</td>\n",
       "      <td>2015</td>\n",
       "      <td>12</td>\n",
       "      <td>24</td>\n",
       "    </tr>\n",
       "    <tr>\n",
       "      <th>1</th>\n",
       "      <td>1</td>\n",
       "      <td>28</td>\n",
       "      <td>1</td>\n",
       "      <td>15</td>\n",
       "      <td>2</td>\n",
       "      <td>57387</td>\n",
       "      <td>1</td>\n",
       "      <td>1</td>\n",
       "      <td>-665480</td>\n",
       "      <td>2</td>\n",
       "      <td>2016</td>\n",
       "      <td>2</td>\n",
       "      <td>1</td>\n",
       "      <td>2015</td>\n",
       "      <td>12</td>\n",
       "      <td>24</td>\n",
       "    </tr>\n",
       "    <tr>\n",
       "      <th>2</th>\n",
       "      <td>1</td>\n",
       "      <td>28</td>\n",
       "      <td>1</td>\n",
       "      <td>15</td>\n",
       "      <td>2</td>\n",
       "      <td>57387</td>\n",
       "      <td>1</td>\n",
       "      <td>1</td>\n",
       "      <td>0</td>\n",
       "      <td>2</td>\n",
       "      <td>2016</td>\n",
       "      <td>3</td>\n",
       "      <td>1</td>\n",
       "      <td>2015</td>\n",
       "      <td>12</td>\n",
       "      <td>24</td>\n",
       "    </tr>\n",
       "    <tr>\n",
       "      <th>3</th>\n",
       "      <td>2</td>\n",
       "      <td>31</td>\n",
       "      <td>1</td>\n",
       "      <td>26</td>\n",
       "      <td>2</td>\n",
       "      <td>67016</td>\n",
       "      <td>2</td>\n",
       "      <td>2</td>\n",
       "      <td>0</td>\n",
       "      <td>1</td>\n",
       "      <td>2017</td>\n",
       "      <td>11</td>\n",
       "      <td>1</td>\n",
       "      <td>2017</td>\n",
       "      <td>11</td>\n",
       "      <td>6</td>\n",
       "    </tr>\n",
       "    <tr>\n",
       "      <th>4</th>\n",
       "      <td>2</td>\n",
       "      <td>31</td>\n",
       "      <td>1</td>\n",
       "      <td>26</td>\n",
       "      <td>2</td>\n",
       "      <td>67016</td>\n",
       "      <td>2</td>\n",
       "      <td>2</td>\n",
       "      <td>0</td>\n",
       "      <td>1</td>\n",
       "      <td>2017</td>\n",
       "      <td>12</td>\n",
       "      <td>1</td>\n",
       "      <td>2017</td>\n",
       "      <td>11</td>\n",
       "      <td>6</td>\n",
       "    </tr>\n",
       "  </tbody>\n",
       "</table>\n",
       "</div>"
      ],
      "text/plain": [
       "   Emp_ID  Age  Gender  City  Education_Level  Salary  Joining Designation  \\\n",
       "0       1   28       1    15                2   57387                    1   \n",
       "1       1   28       1    15                2   57387                    1   \n",
       "2       1   28       1    15                2   57387                    1   \n",
       "3       2   31       1    26                2   67016                    2   \n",
       "4       2   31       1    26                2   67016                    2   \n",
       "\n",
       "   Designation  Total Business Value  Quarterly Rating  Reporting_Year  \\\n",
       "0            1               2381060                 2            2016   \n",
       "1            1               -665480                 2            2016   \n",
       "2            1                     0                 2            2016   \n",
       "3            2                     0                 1            2017   \n",
       "4            2                     0                 1            2017   \n",
       "\n",
       "   Reporting_Month  Reporting_day  Joining_Year  Joining_Month  Joining_day  \n",
       "0                1              1          2015             12           24  \n",
       "1                2              1          2015             12           24  \n",
       "2                3              1          2015             12           24  \n",
       "3               11              1          2017             11            6  \n",
       "4               12              1          2017             11            6  "
      ]
     },
     "execution_count": 24,
     "metadata": {},
     "output_type": "execute_result"
    }
   ],
   "source": [
    "df_train.head()"
   ]
  },
  {
   "cell_type": "code",
   "execution_count": 25,
   "id": "734aae7d",
   "metadata": {},
   "outputs": [
    {
     "name": "stdout",
     "output_type": "stream",
     "text": [
      "<class 'pandas.core.frame.DataFrame'>\n",
      "RangeIndex: 19104 entries, 0 to 19103\n",
      "Data columns (total 16 columns):\n",
      " #   Column                Non-Null Count  Dtype\n",
      "---  ------                --------------  -----\n",
      " 0   Emp_ID                19104 non-null  int64\n",
      " 1   Age                   19104 non-null  int64\n",
      " 2   Gender                19104 non-null  int32\n",
      " 3   City                  19104 non-null  int32\n",
      " 4   Education_Level       19104 non-null  int32\n",
      " 5   Salary                19104 non-null  int64\n",
      " 6   Joining Designation   19104 non-null  int64\n",
      " 7   Designation           19104 non-null  int64\n",
      " 8   Total Business Value  19104 non-null  int64\n",
      " 9   Quarterly Rating      19104 non-null  int64\n",
      " 10  Reporting_Year        19104 non-null  int64\n",
      " 11  Reporting_Month       19104 non-null  int64\n",
      " 12  Reporting_day         19104 non-null  int64\n",
      " 13  Joining_Year          19104 non-null  int64\n",
      " 14  Joining_Month         19104 non-null  int64\n",
      " 15  Joining_day           19104 non-null  int64\n",
      "dtypes: int32(3), int64(13)\n",
      "memory usage: 2.1 MB\n"
     ]
    }
   ],
   "source": [
    "df_train.info()"
   ]
  },
  {
   "cell_type": "markdown",
   "id": "767ac7cf",
   "metadata": {},
   "source": [
    "CHECKING FOR CORRELATION STRENGTH BETWEEN THE FEATURES USING HEATMAP"
   ]
  },
  {
   "cell_type": "code",
   "execution_count": 26,
   "id": "2126dd78",
   "metadata": {},
   "outputs": [
    {
     "data": {
      "text/plain": [
       "<AxesSubplot:>"
      ]
     },
     "execution_count": 26,
     "metadata": {},
     "output_type": "execute_result"
    },
    {
     "data": {
      "image/png": "[encoded data removed]",
      "text/plain": [
       "<Figure size 1440x1080 with 2 Axes>"
      ]
     },
     "metadata": {
      "needs_background": "light"
     },
     "output_type": "display_data"
    }
   ],
   "source": [
    "plt.figure(figsize=(20,15))\n",
    "sns.heatmap(df_train.corr(), cmap=\"YlGnBu\", annot=True, linewidths=.5)"
   ]
  },
  {
   "cell_type": "markdown",
   "id": "486768aa",
   "metadata": {},
   "source": [
    "FROM THE ABOVE FIGURE IT IS EVIDENT THAT THERE IS STRONG CORRELATION BETWEEN THE FEATURE PAIRS\n",
    "Designation-Salary, Designation-Joining Designation, Quarterly Rating-Total Business Value\n",
    "AND THERE IS MODERATE CORRELATION BETWEEN THE FEATURE PAIRS \n",
    "Salary-joining_Designation, Age-Designation, Age-Salary  \n"
   ]
  },
  {
   "cell_type": "markdown",
   "id": "355b7841",
   "metadata": {},
   "source": [
    "NOW PLOTTING HISTOGRAMS FOR THE ABOVE FEATURE PAIRS FOR A MORE CLEAR VISUALISATION"
   ]
  },
  {
   "cell_type": "markdown",
   "id": "a0a7f1f0",
   "metadata": {},
   "source": [
    "HISTOGRAM Designation vs Salary"
   ]
  },
  {
   "cell_type": "code",
   "execution_count": 27,
   "id": "3cc35761",
   "metadata": {},
   "outputs": [
    {
     "data": {
      "text/plain": [
       "<AxesSubplot:xlabel='Designation', ylabel='Salary'>"
      ]
     },
     "execution_count": 27,
     "metadata": {},
     "output_type": "execute_result"
    },
    {
     "data": {
      "image/png": "[encoded data removed]",
      "text/plain": [
       "<Figure size 432x288 with 1 Axes>"
      ]
     },
     "metadata": {
      "needs_background": "light"
     },
     "output_type": "display_data"
    }
   ],
   "source": [
    "sns.histplot(data=df_train, x='Designation',y='Salary', kde=True)"
   ]
  },
  {
   "cell_type": "markdown",
   "id": "4dce1523",
   "metadata": {},
   "source": [
    "HISTOGRAM Joining Designation vs Designation"
   ]
  },
  {
   "cell_type": "code",
   "execution_count": 28,
   "id": "5daf599c",
   "metadata": {},
   "outputs": [
    {
     "data": {
      "text/plain": [
       "<AxesSubplot:xlabel='Joining Designation', ylabel='Designation'>"
      ]
     },
     "execution_count": 28,
     "metadata": {},
     "output_type": "execute_result"
    },
    {
     "data": {
      "image/png": "[encoded data removed]",
      "text/plain": [
       "<Figure size 432x288 with 1 Axes>"
      ]
     },
     "metadata": {
      "needs_background": "light"
     },
     "output_type": "display_data"
    }
   ],
   "source": [
    "sns.histplot(data=df_train, x='Joining Designation',y='Designation', kde=True)"
   ]
  },
  {
   "cell_type": "markdown",
   "id": "955a9cc0",
   "metadata": {},
   "source": [
    "HISTOGRAM Quarterly Rating vs Total Business Value"
   ]
  },
  {
   "cell_type": "code",
   "execution_count": 29,
   "id": "f76cac43",
   "metadata": {},
   "outputs": [
    {
     "data": {
      "text/plain": [
       "<AxesSubplot:xlabel='Quarterly Rating', ylabel='Total Business Value'>"
      ]
     },
     "execution_count": 29,
     "metadata": {},
     "output_type": "execute_result"
    },
    {
     "data": {
      "image/png": "[encoded data removed]",
      "text/plain": [
       "<Figure size 432x288 with 1 Axes>"
      ]
     },
     "metadata": {
      "needs_background": "light"
     },
     "output_type": "display_data"
    }
   ],
   "source": [
    "sns.histplot(data=df_train, x='Quarterly Rating',y='Total Business Value', kde=True)"
   ]
  },
  {
   "cell_type": "markdown",
   "id": "04f9b795",
   "metadata": {},
   "source": [
    "HISTOGRAM joining_Designation vs Salary"
   ]
  },
  {
   "cell_type": "code",
   "execution_count": 30,
   "id": "aa3556a1",
   "metadata": {},
   "outputs": [
    {
     "data": {
      "text/plain": [
       "<AxesSubplot:xlabel='Joining Designation', ylabel='Salary'>"
      ]
     },
     "execution_count": 30,
     "metadata": {},
     "output_type": "execute_result"
    },
    {
     "data": {
      "image/png": "[encoded data removed]",
      "text/plain": [
       "<Figure size 432x288 with 1 Axes>"
      ]
     },
     "metadata": {
      "needs_background": "light"
     },
     "output_type": "display_data"
    }
   ],
   "source": [
    "sns.histplot(data=df_train, x='Joining Designation',y='Salary', kde=True)"
   ]
  },
  {
   "cell_type": "markdown",
   "id": "081247f4",
   "metadata": {},
   "source": [
    "HISTOGRAM Age vs Designation "
   ]
  },
  {
   "cell_type": "code",
   "execution_count": 31,
   "id": "9235b79f",
   "metadata": {},
   "outputs": [
    {
     "data": {
      "text/plain": [
       "<AxesSubplot:xlabel='Age', ylabel='Designation'>"
      ]
     },
     "execution_count": 31,
     "metadata": {},
     "output_type": "execute_result"
    },
    {
     "data": {
      "image/png": "[encoded data removed]",
      "text/plain": [
       "<Figure size 432x288 with 1 Axes>"
      ]
     },
     "metadata": {
      "needs_background": "light"
     },
     "output_type": "display_data"
    }
   ],
   "source": [
    "sns.histplot(data=df_train, x='Age',y='Designation', kde=True)"
   ]
  },
  {
   "cell_type": "markdown",
   "id": "a18f6793",
   "metadata": {},
   "source": [
    "HISTOGRAM Age vs Salary "
   ]
  },
  {
   "cell_type": "code",
   "execution_count": 32,
   "id": "f4c5b4b5",
   "metadata": {},
   "outputs": [
    {
     "data": {
      "text/plain": [
       "<AxesSubplot:xlabel='Age', ylabel='Salary'>"
      ]
     },
     "execution_count": 32,
     "metadata": {},
     "output_type": "execute_result"
    },
    {
     "data": {
      "image/png": "[encoded data removed]",
      "text/plain": [
       "<Figure size 432x288 with 1 Axes>"
      ]
     },
     "metadata": {
      "needs_background": "light"
     },
     "output_type": "display_data"
    }
   ],
   "source": [
    "sns.histplot(data=df_train, x='Age',y='Salary', kde=True)"
   ]
  },
  {
   "cell_type": "markdown",
   "id": "63a9c39d",
   "metadata": {},
   "source": [
    "FROM ABOVE WE SEE THAT TWO FEATURES Salary and Designation ARE HIGHLY CORRELATED\n",
    "HENCE TO AVOID THE CURSE OF DIMENTIONALITY WE REMOVE THESE TWO FEATURES FROM FURTHER ANALYSIS"
   ]
  },
  {
   "cell_type": "code",
   "execution_count": 33,
   "id": "f6cf69d5",
   "metadata": {},
   "outputs": [],
   "source": [
    "df_train.drop(['Salary'],axis = 1, inplace = True)"
   ]
  },
  {
   "cell_type": "code",
   "execution_count": 34,
   "id": "161516f4",
   "metadata": {},
   "outputs": [],
   "source": [
    "df_train.drop(['Designation'],axis = 1, inplace = True)"
   ]
  },
  {
   "cell_type": "code",
   "execution_count": 35,
   "id": "b91a0464",
   "metadata": {},
   "outputs": [
    {
     "data": {
      "text/html": [
       "<div>\n",
       "<style scoped>\n",
       "    .dataframe tbody tr th:only-of-type {\n",
       "        vertical-align: middle;\n",
       "    }\n",
       "\n",
       "    .dataframe tbody tr th {\n",
       "        vertical-align: top;\n",
       "    }\n",
       "\n",
       "    .dataframe thead th {\n",
       "        text-align: right;\n",
       "    }\n",
       "</style>\n",
       "<table border=\"1\" class=\"dataframe\">\n",
       "  <thead>\n",
       "    <tr style=\"text-align: right;\">\n",
       "      <th></th>\n",
       "      <th>Emp_ID</th>\n",
       "      <th>Age</th>\n",
       "      <th>Gender</th>\n",
       "      <th>City</th>\n",
       "      <th>Education_Level</th>\n",
       "      <th>Joining Designation</th>\n",
       "      <th>Total Business Value</th>\n",
       "      <th>Quarterly Rating</th>\n",
       "      <th>Reporting_Year</th>\n",
       "      <th>Reporting_Month</th>\n",
       "      <th>Reporting_day</th>\n",
       "      <th>Joining_Year</th>\n",
       "      <th>Joining_Month</th>\n",
       "      <th>Joining_day</th>\n",
       "    </tr>\n",
       "  </thead>\n",
       "  <tbody>\n",
       "    <tr>\n",
       "      <th>0</th>\n",
       "      <td>1</td>\n",
       "      <td>28</td>\n",
       "      <td>1</td>\n",
       "      <td>15</td>\n",
       "      <td>2</td>\n",
       "      <td>1</td>\n",
       "      <td>2381060</td>\n",
       "      <td>2</td>\n",
       "      <td>2016</td>\n",
       "      <td>1</td>\n",
       "      <td>1</td>\n",
       "      <td>2015</td>\n",
       "      <td>12</td>\n",
       "      <td>24</td>\n",
       "    </tr>\n",
       "    <tr>\n",
       "      <th>1</th>\n",
       "      <td>1</td>\n",
       "      <td>28</td>\n",
       "      <td>1</td>\n",
       "      <td>15</td>\n",
       "      <td>2</td>\n",
       "      <td>1</td>\n",
       "      <td>-665480</td>\n",
       "      <td>2</td>\n",
       "      <td>2016</td>\n",
       "      <td>2</td>\n",
       "      <td>1</td>\n",
       "      <td>2015</td>\n",
       "      <td>12</td>\n",
       "      <td>24</td>\n",
       "    </tr>\n",
       "    <tr>\n",
       "      <th>2</th>\n",
       "      <td>1</td>\n",
       "      <td>28</td>\n",
       "      <td>1</td>\n",
       "      <td>15</td>\n",
       "      <td>2</td>\n",
       "      <td>1</td>\n",
       "      <td>0</td>\n",
       "      <td>2</td>\n",
       "      <td>2016</td>\n",
       "      <td>3</td>\n",
       "      <td>1</td>\n",
       "      <td>2015</td>\n",
       "      <td>12</td>\n",
       "      <td>24</td>\n",
       "    </tr>\n",
       "    <tr>\n",
       "      <th>3</th>\n",
       "      <td>2</td>\n",
       "      <td>31</td>\n",
       "      <td>1</td>\n",
       "      <td>26</td>\n",
       "      <td>2</td>\n",
       "      <td>2</td>\n",
       "      <td>0</td>\n",
       "      <td>1</td>\n",
       "      <td>2017</td>\n",
       "      <td>11</td>\n",
       "      <td>1</td>\n",
       "      <td>2017</td>\n",
       "      <td>11</td>\n",
       "      <td>6</td>\n",
       "    </tr>\n",
       "    <tr>\n",
       "      <th>4</th>\n",
       "      <td>2</td>\n",
       "      <td>31</td>\n",
       "      <td>1</td>\n",
       "      <td>26</td>\n",
       "      <td>2</td>\n",
       "      <td>2</td>\n",
       "      <td>0</td>\n",
       "      <td>1</td>\n",
       "      <td>2017</td>\n",
       "      <td>12</td>\n",
       "      <td>1</td>\n",
       "      <td>2017</td>\n",
       "      <td>11</td>\n",
       "      <td>6</td>\n",
       "    </tr>\n",
       "  </tbody>\n",
       "</table>\n",
       "</div>"
      ],
      "text/plain": [
       "   Emp_ID  Age  Gender  City  Education_Level  Joining Designation  \\\n",
       "0       1   28       1    15                2                    1   \n",
       "1       1   28       1    15                2                    1   \n",
       "2       1   28       1    15                2                    1   \n",
       "3       2   31       1    26                2                    2   \n",
       "4       2   31       1    26                2                    2   \n",
       "\n",
       "   Total Business Value  Quarterly Rating  Reporting_Year  Reporting_Month  \\\n",
       "0               2381060                 2            2016                1   \n",
       "1               -665480                 2            2016                2   \n",
       "2                     0                 2            2016                3   \n",
       "3                     0                 1            2017               11   \n",
       "4                     0                 1            2017               12   \n",
       "\n",
       "   Reporting_day  Joining_Year  Joining_Month  Joining_day  \n",
       "0              1          2015             12           24  \n",
       "1              1          2015             12           24  \n",
       "2              1          2015             12           24  \n",
       "3              1          2017             11            6  \n",
       "4              1          2017             11            6  "
      ]
     },
     "execution_count": 35,
     "metadata": {},
     "output_type": "execute_result"
    }
   ],
   "source": [
    "df_train.head()"
   ]
  },
  {
   "cell_type": "markdown",
   "id": "76c609ba",
   "metadata": {},
   "source": [
    "# DATA ENGINEERING"
   ]
  },
  {
   "cell_type": "markdown",
   "id": "de2a58a8",
   "metadata": {},
   "source": [
    "WE NEED TO FIND OUT NOW EXACTLY FOR HOW MANY MONTHS AND DAYS DID AN EMPLOYEE WORKED IN THE COMPANY.\n",
    "FOR THAT WE NEED NEW FEATURES "
   ]
  },
  {
   "cell_type": "code",
   "execution_count": 36,
   "id": "d47dcde2",
   "metadata": {},
   "outputs": [
    {
     "data": {
      "text/html": [
       "<div>\n",
       "<style scoped>\n",
       "    .dataframe tbody tr th:only-of-type {\n",
       "        vertical-align: middle;\n",
       "    }\n",
       "\n",
       "    .dataframe tbody tr th {\n",
       "        vertical-align: top;\n",
       "    }\n",
       "\n",
       "    .dataframe thead th {\n",
       "        text-align: right;\n",
       "    }\n",
       "</style>\n",
       "<table border=\"1\" class=\"dataframe\">\n",
       "  <thead>\n",
       "    <tr style=\"text-align: right;\">\n",
       "      <th></th>\n",
       "      <th>Emp_ID</th>\n",
       "      <th>Age</th>\n",
       "      <th>Gender</th>\n",
       "      <th>City</th>\n",
       "      <th>Education_Level</th>\n",
       "      <th>Joining Designation</th>\n",
       "      <th>Total Business Value</th>\n",
       "      <th>Quarterly Rating</th>\n",
       "      <th>Reporting_Year</th>\n",
       "      <th>Reporting_Month</th>\n",
       "      <th>Reporting_day</th>\n",
       "      <th>Joining_Year</th>\n",
       "      <th>Joining_Month</th>\n",
       "      <th>Joining_day</th>\n",
       "    </tr>\n",
       "  </thead>\n",
       "  <tbody>\n",
       "    <tr>\n",
       "      <th>count</th>\n",
       "      <td>19104.000000</td>\n",
       "      <td>19104.000000</td>\n",
       "      <td>19104.000000</td>\n",
       "      <td>19104.000000</td>\n",
       "      <td>19104.000000</td>\n",
       "      <td>19104.000000</td>\n",
       "      <td>1.910400e+04</td>\n",
       "      <td>19104.000000</td>\n",
       "      <td>19104.000000</td>\n",
       "      <td>19104.000000</td>\n",
       "      <td>19104.0</td>\n",
       "      <td>19104.000000</td>\n",
       "      <td>19104.000000</td>\n",
       "      <td>19104.000000</td>\n",
       "    </tr>\n",
       "    <tr>\n",
       "      <th>mean</th>\n",
       "      <td>1415.591133</td>\n",
       "      <td>34.650283</td>\n",
       "      <td>0.581187</td>\n",
       "      <td>14.117096</td>\n",
       "      <td>0.971891</td>\n",
       "      <td>1.690536</td>\n",
       "      <td>5.716621e+05</td>\n",
       "      <td>2.008899</td>\n",
       "      <td>2016.491834</td>\n",
       "      <td>6.422268</td>\n",
       "      <td>1.0</td>\n",
       "      <td>2014.776330</td>\n",
       "      <td>7.093645</td>\n",
       "      <td>16.059307</td>\n",
       "    </tr>\n",
       "    <tr>\n",
       "      <th>std</th>\n",
       "      <td>810.705321</td>\n",
       "      <td>6.264471</td>\n",
       "      <td>0.493378</td>\n",
       "      <td>8.272903</td>\n",
       "      <td>0.830500</td>\n",
       "      <td>0.836984</td>\n",
       "      <td>1.128312e+06</td>\n",
       "      <td>1.009832</td>\n",
       "      <td>0.499946</td>\n",
       "      <td>3.511325</td>\n",
       "      <td>0.0</td>\n",
       "      <td>1.920872</td>\n",
       "      <td>3.082911</td>\n",
       "      <td>9.219251</td>\n",
       "    </tr>\n",
       "    <tr>\n",
       "      <th>min</th>\n",
       "      <td>1.000000</td>\n",
       "      <td>21.000000</td>\n",
       "      <td>0.000000</td>\n",
       "      <td>0.000000</td>\n",
       "      <td>0.000000</td>\n",
       "      <td>1.000000</td>\n",
       "      <td>-6.000000e+06</td>\n",
       "      <td>1.000000</td>\n",
       "      <td>2016.000000</td>\n",
       "      <td>1.000000</td>\n",
       "      <td>1.0</td>\n",
       "      <td>2010.000000</td>\n",
       "      <td>1.000000</td>\n",
       "      <td>1.000000</td>\n",
       "    </tr>\n",
       "    <tr>\n",
       "      <th>25%</th>\n",
       "      <td>710.000000</td>\n",
       "      <td>30.000000</td>\n",
       "      <td>0.000000</td>\n",
       "      <td>7.000000</td>\n",
       "      <td>0.000000</td>\n",
       "      <td>1.000000</td>\n",
       "      <td>0.000000e+00</td>\n",
       "      <td>1.000000</td>\n",
       "      <td>2016.000000</td>\n",
       "      <td>3.000000</td>\n",
       "      <td>1.0</td>\n",
       "      <td>2013.000000</td>\n",
       "      <td>5.000000</td>\n",
       "      <td>8.000000</td>\n",
       "    </tr>\n",
       "    <tr>\n",
       "      <th>50%</th>\n",
       "      <td>1417.000000</td>\n",
       "      <td>34.000000</td>\n",
       "      <td>1.000000</td>\n",
       "      <td>14.000000</td>\n",
       "      <td>1.000000</td>\n",
       "      <td>1.000000</td>\n",
       "      <td>2.500000e+05</td>\n",
       "      <td>2.000000</td>\n",
       "      <td>2016.000000</td>\n",
       "      <td>6.000000</td>\n",
       "      <td>1.0</td>\n",
       "      <td>2015.000000</td>\n",
       "      <td>7.000000</td>\n",
       "      <td>16.000000</td>\n",
       "    </tr>\n",
       "    <tr>\n",
       "      <th>75%</th>\n",
       "      <td>2137.000000</td>\n",
       "      <td>39.000000</td>\n",
       "      <td>1.000000</td>\n",
       "      <td>21.000000</td>\n",
       "      <td>2.000000</td>\n",
       "      <td>2.000000</td>\n",
       "      <td>6.997000e+05</td>\n",
       "      <td>3.000000</td>\n",
       "      <td>2017.000000</td>\n",
       "      <td>9.000000</td>\n",
       "      <td>1.0</td>\n",
       "      <td>2016.000000</td>\n",
       "      <td>10.000000</td>\n",
       "      <td>24.000000</td>\n",
       "    </tr>\n",
       "    <tr>\n",
       "      <th>max</th>\n",
       "      <td>2788.000000</td>\n",
       "      <td>58.000000</td>\n",
       "      <td>1.000000</td>\n",
       "      <td>28.000000</td>\n",
       "      <td>2.000000</td>\n",
       "      <td>5.000000</td>\n",
       "      <td>3.374772e+07</td>\n",
       "      <td>4.000000</td>\n",
       "      <td>2017.000000</td>\n",
       "      <td>12.000000</td>\n",
       "      <td>1.0</td>\n",
       "      <td>2017.000000</td>\n",
       "      <td>12.000000</td>\n",
       "      <td>31.000000</td>\n",
       "    </tr>\n",
       "  </tbody>\n",
       "</table>\n",
       "</div>"
      ],
      "text/plain": [
       "             Emp_ID           Age        Gender          City  \\\n",
       "count  19104.000000  19104.000000  19104.000000  19104.000000   \n",
       "mean    1415.591133     34.650283      0.581187     14.117096   \n",
       "std      810.705321      6.264471      0.493378      8.272903   \n",
       "min        1.000000     21.000000      0.000000      0.000000   \n",
       "25%      710.000000     30.000000      0.000000      7.000000   \n",
       "50%     1417.000000     34.000000      1.000000     14.000000   \n",
       "75%     2137.000000     39.000000      1.000000     21.000000   \n",
       "max     2788.000000     58.000000      1.000000     28.000000   \n",
       "\n",
       "       Education_Level  Joining Designation  Total Business Value  \\\n",
       "count     19104.000000         19104.000000          1.910400e+04   \n",
       "mean          0.971891             1.690536          5.716621e+05   \n",
       "std           0.830500             0.836984          1.128312e+06   \n",
       "min           0.000000             1.000000         -6.000000e+06   \n",
       "25%           0.000000             1.000000          0.000000e+00   \n",
       "50%           1.000000             1.000000          2.500000e+05   \n",
       "75%           2.000000             2.000000          6.997000e+05   \n",
       "max           2.000000             5.000000          3.374772e+07   \n",
       "\n",
       "       Quarterly Rating  Reporting_Year  Reporting_Month  Reporting_day  \\\n",
       "count      19104.000000    19104.000000     19104.000000        19104.0   \n",
       "mean           2.008899     2016.491834         6.422268            1.0   \n",
       "std            1.009832        0.499946         3.511325            0.0   \n",
       "min            1.000000     2016.000000         1.000000            1.0   \n",
       "25%            1.000000     2016.000000         3.000000            1.0   \n",
       "50%            2.000000     2016.000000         6.000000            1.0   \n",
       "75%            3.000000     2017.000000         9.000000            1.0   \n",
       "max            4.000000     2017.000000        12.000000            1.0   \n",
       "\n",
       "       Joining_Year  Joining_Month   Joining_day  \n",
       "count  19104.000000   19104.000000  19104.000000  \n",
       "mean    2014.776330       7.093645     16.059307  \n",
       "std        1.920872       3.082911      9.219251  \n",
       "min     2010.000000       1.000000      1.000000  \n",
       "25%     2013.000000       5.000000      8.000000  \n",
       "50%     2015.000000       7.000000     16.000000  \n",
       "75%     2016.000000      10.000000     24.000000  \n",
       "max     2017.000000      12.000000     31.000000  "
      ]
     },
     "execution_count": 36,
     "metadata": {},
     "output_type": "execute_result"
    }
   ],
   "source": [
    "df_train.describe()"
   ]
  },
  {
   "cell_type": "markdown",
   "id": "efe8f248",
   "metadata": {},
   "source": [
    "FROM ABOVE WE CAN SEE THAT THE REPORTING DATE OF THE EMPLOYEE IS 1ST OF EVERY MONTH.\n",
    "THUS Reporting_day AND Reporting_Month BOTH WILL ACCOUNT FOR A WHOLE SINGLE MONTH,\n",
    "THUS WE STRIKE OUT THE FEATURE Reporting_day FROM OUR ANALYSIS AND TRY TO FOCUS ON \n",
    "THE NO. OF MONTHS THE EMPLOYEE WORKED IN THE COMPANY"
   ]
  },
  {
   "cell_type": "code",
   "execution_count": 37,
   "id": "cfbc85ec",
   "metadata": {},
   "outputs": [],
   "source": [
    "df_train.drop(['Reporting_day'],axis = 1, inplace = True)"
   ]
  },
  {
   "cell_type": "markdown",
   "id": "197a9a61",
   "metadata": {},
   "source": [
    "AGAIN, IRRESPECTIVE OF THE JOINING DATE, THE EMPLOYEE WILL REPORT AT 1ST OF EVERY MONTH.\n",
    "SO WE CAN DROP THE FEATURE Joining_day FROM OUR ANALYSIS.\n",
    "ALSO, REPORTING MONTH AND REPORTING YEAR ARE PROVIDED HENCE, EACH MONTH REPORTING HAS TO BE DONE\n",
    "AND CORRESPONDINGLY WE CAN SRIKE OUT THE FEATURE Joining_Month FROM OUR ANALYSIS.\n",
    "SAME GOES FOR THE FEATURE Joining_Year AS A DATE BEFORE 1ST OF ANY MONTH WOULD NOT BE COUNTED IN REPORTING."
   ]
  },
  {
   "cell_type": "code",
   "execution_count": 38,
   "id": "0dde5856",
   "metadata": {},
   "outputs": [],
   "source": [
    "df_train.drop(['Joining_day'],axis = 1, inplace = True)"
   ]
  },
  {
   "cell_type": "code",
   "execution_count": 39,
   "id": "7f07a0c8",
   "metadata": {},
   "outputs": [],
   "source": [
    "df_train.drop(['Joining_Month'],axis = 1, inplace = True)"
   ]
  },
  {
   "cell_type": "code",
   "execution_count": 40,
   "id": "65b992df",
   "metadata": {},
   "outputs": [],
   "source": [
    "df_train.drop(['Joining_Year'],axis = 1, inplace = True)"
   ]
  },
  {
   "cell_type": "code",
   "execution_count": 41,
   "id": "3f9df574",
   "metadata": {},
   "outputs": [
    {
     "data": {
      "text/html": [
       "<div>\n",
       "<style scoped>\n",
       "    .dataframe tbody tr th:only-of-type {\n",
       "        vertical-align: middle;\n",
       "    }\n",
       "\n",
       "    .dataframe tbody tr th {\n",
       "        vertical-align: top;\n",
       "    }\n",
       "\n",
       "    .dataframe thead th {\n",
       "        text-align: right;\n",
       "    }\n",
       "</style>\n",
       "<table border=\"1\" class=\"dataframe\">\n",
       "  <thead>\n",
       "    <tr style=\"text-align: right;\">\n",
       "      <th></th>\n",
       "      <th>Emp_ID</th>\n",
       "      <th>Age</th>\n",
       "      <th>Gender</th>\n",
       "      <th>City</th>\n",
       "      <th>Education_Level</th>\n",
       "      <th>Joining Designation</th>\n",
       "      <th>Total Business Value</th>\n",
       "      <th>Quarterly Rating</th>\n",
       "      <th>Reporting_Year</th>\n",
       "      <th>Reporting_Month</th>\n",
       "    </tr>\n",
       "  </thead>\n",
       "  <tbody>\n",
       "    <tr>\n",
       "      <th>0</th>\n",
       "      <td>1</td>\n",
       "      <td>28</td>\n",
       "      <td>1</td>\n",
       "      <td>15</td>\n",
       "      <td>2</td>\n",
       "      <td>1</td>\n",
       "      <td>2381060</td>\n",
       "      <td>2</td>\n",
       "      <td>2016</td>\n",
       "      <td>1</td>\n",
       "    </tr>\n",
       "    <tr>\n",
       "      <th>1</th>\n",
       "      <td>1</td>\n",
       "      <td>28</td>\n",
       "      <td>1</td>\n",
       "      <td>15</td>\n",
       "      <td>2</td>\n",
       "      <td>1</td>\n",
       "      <td>-665480</td>\n",
       "      <td>2</td>\n",
       "      <td>2016</td>\n",
       "      <td>2</td>\n",
       "    </tr>\n",
       "    <tr>\n",
       "      <th>2</th>\n",
       "      <td>1</td>\n",
       "      <td>28</td>\n",
       "      <td>1</td>\n",
       "      <td>15</td>\n",
       "      <td>2</td>\n",
       "      <td>1</td>\n",
       "      <td>0</td>\n",
       "      <td>2</td>\n",
       "      <td>2016</td>\n",
       "      <td>3</td>\n",
       "    </tr>\n",
       "    <tr>\n",
       "      <th>3</th>\n",
       "      <td>2</td>\n",
       "      <td>31</td>\n",
       "      <td>1</td>\n",
       "      <td>26</td>\n",
       "      <td>2</td>\n",
       "      <td>2</td>\n",
       "      <td>0</td>\n",
       "      <td>1</td>\n",
       "      <td>2017</td>\n",
       "      <td>11</td>\n",
       "    </tr>\n",
       "    <tr>\n",
       "      <th>4</th>\n",
       "      <td>2</td>\n",
       "      <td>31</td>\n",
       "      <td>1</td>\n",
       "      <td>26</td>\n",
       "      <td>2</td>\n",
       "      <td>2</td>\n",
       "      <td>0</td>\n",
       "      <td>1</td>\n",
       "      <td>2017</td>\n",
       "      <td>12</td>\n",
       "    </tr>\n",
       "  </tbody>\n",
       "</table>\n",
       "</div>"
      ],
      "text/plain": [
       "   Emp_ID  Age  Gender  City  Education_Level  Joining Designation  \\\n",
       "0       1   28       1    15                2                    1   \n",
       "1       1   28       1    15                2                    1   \n",
       "2       1   28       1    15                2                    1   \n",
       "3       2   31       1    26                2                    2   \n",
       "4       2   31       1    26                2                    2   \n",
       "\n",
       "   Total Business Value  Quarterly Rating  Reporting_Year  Reporting_Month  \n",
       "0               2381060                 2            2016                1  \n",
       "1               -665480                 2            2016                2  \n",
       "2                     0                 2            2016                3  \n",
       "3                     0                 1            2017               11  \n",
       "4                     0                 1            2017               12  "
      ]
     },
     "execution_count": 41,
     "metadata": {},
     "output_type": "execute_result"
    }
   ],
   "source": [
    "df_train.head()"
   ]
  },
  {
   "cell_type": "markdown",
   "id": "4e395298",
   "metadata": {},
   "source": [
    "NOW LETS FIND OUT THE NUMBER OF MONTHS EACH EMPLOYEE WORKED AFTER JOINING THE COMPANY"
   ]
  },
  {
   "cell_type": "code",
   "execution_count": 42,
   "id": "ae9a2927",
   "metadata": {},
   "outputs": [
    {
     "data": {
      "text/plain": [
       "<bound method Series.reset_index of 0         1\n",
       "1         2\n",
       "2         3\n",
       "3        11\n",
       "4        12\n",
       "         ..\n",
       "19097     6\n",
       "19098     7\n",
       "19099     8\n",
       "19100     9\n",
       "19101    10\n",
       "Name: Reporting_Month, Length: 9801, dtype: int64>"
      ]
     },
     "execution_count": 42,
     "metadata": {},
     "output_type": "execute_result"
    }
   ],
   "source": [
    "months_worked = df_train['Reporting_Month'].groupby(df_train['Emp_ID'])\n",
    "months_worked.head().reset_index"
   ]
  },
  {
   "cell_type": "code",
   "execution_count": 43,
   "id": "1383e555",
   "metadata": {},
   "outputs": [
    {
     "data": {
      "text/html": [
       "<div>\n",
       "<style scoped>\n",
       "    .dataframe tbody tr th:only-of-type {\n",
       "        vertical-align: middle;\n",
       "    }\n",
       "\n",
       "    .dataframe tbody tr th {\n",
       "        vertical-align: top;\n",
       "    }\n",
       "\n",
       "    .dataframe thead th {\n",
       "        text-align: right;\n",
       "    }\n",
       "</style>\n",
       "<table border=\"1\" class=\"dataframe\">\n",
       "  <thead>\n",
       "    <tr style=\"text-align: right;\">\n",
       "      <th></th>\n",
       "      <th>count</th>\n",
       "      <th>mean</th>\n",
       "      <th>std</th>\n",
       "      <th>min</th>\n",
       "      <th>25%</th>\n",
       "      <th>50%</th>\n",
       "      <th>75%</th>\n",
       "      <th>max</th>\n",
       "    </tr>\n",
       "    <tr>\n",
       "      <th>Emp_ID</th>\n",
       "      <th></th>\n",
       "      <th></th>\n",
       "      <th></th>\n",
       "      <th></th>\n",
       "      <th></th>\n",
       "      <th></th>\n",
       "      <th></th>\n",
       "      <th></th>\n",
       "    </tr>\n",
       "  </thead>\n",
       "  <tbody>\n",
       "    <tr>\n",
       "      <th>1</th>\n",
       "      <td>3.0</td>\n",
       "      <td>2.0</td>\n",
       "      <td>1.000000</td>\n",
       "      <td>1.0</td>\n",
       "      <td>1.50</td>\n",
       "      <td>2.0</td>\n",
       "      <td>2.50</td>\n",
       "      <td>3.0</td>\n",
       "    </tr>\n",
       "    <tr>\n",
       "      <th>2</th>\n",
       "      <td>2.0</td>\n",
       "      <td>11.5</td>\n",
       "      <td>0.707107</td>\n",
       "      <td>11.0</td>\n",
       "      <td>11.25</td>\n",
       "      <td>11.5</td>\n",
       "      <td>11.75</td>\n",
       "      <td>12.0</td>\n",
       "    </tr>\n",
       "    <tr>\n",
       "      <th>4</th>\n",
       "      <td>5.0</td>\n",
       "      <td>4.4</td>\n",
       "      <td>4.393177</td>\n",
       "      <td>1.0</td>\n",
       "      <td>2.00</td>\n",
       "      <td>3.0</td>\n",
       "      <td>4.00</td>\n",
       "      <td>12.0</td>\n",
       "    </tr>\n",
       "    <tr>\n",
       "      <th>5</th>\n",
       "      <td>3.0</td>\n",
       "      <td>2.0</td>\n",
       "      <td>1.000000</td>\n",
       "      <td>1.0</td>\n",
       "      <td>1.50</td>\n",
       "      <td>2.0</td>\n",
       "      <td>2.50</td>\n",
       "      <td>3.0</td>\n",
       "    </tr>\n",
       "    <tr>\n",
       "      <th>6</th>\n",
       "      <td>5.0</td>\n",
       "      <td>10.0</td>\n",
       "      <td>1.581139</td>\n",
       "      <td>8.0</td>\n",
       "      <td>9.00</td>\n",
       "      <td>10.0</td>\n",
       "      <td>11.00</td>\n",
       "      <td>12.0</td>\n",
       "    </tr>\n",
       "    <tr>\n",
       "      <th>...</th>\n",
       "      <td>...</td>\n",
       "      <td>...</td>\n",
       "      <td>...</td>\n",
       "      <td>...</td>\n",
       "      <td>...</td>\n",
       "      <td>...</td>\n",
       "      <td>...</td>\n",
       "      <td>...</td>\n",
       "    </tr>\n",
       "    <tr>\n",
       "      <th>2784</th>\n",
       "      <td>24.0</td>\n",
       "      <td>6.5</td>\n",
       "      <td>3.526299</td>\n",
       "      <td>1.0</td>\n",
       "      <td>3.75</td>\n",
       "      <td>6.5</td>\n",
       "      <td>9.25</td>\n",
       "      <td>12.0</td>\n",
       "    </tr>\n",
       "    <tr>\n",
       "      <th>2785</th>\n",
       "      <td>3.0</td>\n",
       "      <td>9.0</td>\n",
       "      <td>1.000000</td>\n",
       "      <td>8.0</td>\n",
       "      <td>8.50</td>\n",
       "      <td>9.0</td>\n",
       "      <td>9.50</td>\n",
       "      <td>10.0</td>\n",
       "    </tr>\n",
       "    <tr>\n",
       "      <th>2786</th>\n",
       "      <td>9.0</td>\n",
       "      <td>5.0</td>\n",
       "      <td>2.738613</td>\n",
       "      <td>1.0</td>\n",
       "      <td>3.00</td>\n",
       "      <td>5.0</td>\n",
       "      <td>7.00</td>\n",
       "      <td>9.0</td>\n",
       "    </tr>\n",
       "    <tr>\n",
       "      <th>2787</th>\n",
       "      <td>6.0</td>\n",
       "      <td>3.5</td>\n",
       "      <td>1.870829</td>\n",
       "      <td>1.0</td>\n",
       "      <td>2.25</td>\n",
       "      <td>3.5</td>\n",
       "      <td>4.75</td>\n",
       "      <td>6.0</td>\n",
       "    </tr>\n",
       "    <tr>\n",
       "      <th>2788</th>\n",
       "      <td>7.0</td>\n",
       "      <td>9.0</td>\n",
       "      <td>2.160247</td>\n",
       "      <td>6.0</td>\n",
       "      <td>7.50</td>\n",
       "      <td>9.0</td>\n",
       "      <td>10.50</td>\n",
       "      <td>12.0</td>\n",
       "    </tr>\n",
       "  </tbody>\n",
       "</table>\n",
       "<p>2381 rows × 8 columns</p>\n",
       "</div>"
      ],
      "text/plain": [
       "        count  mean       std   min    25%   50%    75%   max\n",
       "Emp_ID                                                       \n",
       "1         3.0   2.0  1.000000   1.0   1.50   2.0   2.50   3.0\n",
       "2         2.0  11.5  0.707107  11.0  11.25  11.5  11.75  12.0\n",
       "4         5.0   4.4  4.393177   1.0   2.00   3.0   4.00  12.0\n",
       "5         3.0   2.0  1.000000   1.0   1.50   2.0   2.50   3.0\n",
       "6         5.0  10.0  1.581139   8.0   9.00  10.0  11.00  12.0\n",
       "...       ...   ...       ...   ...    ...   ...    ...   ...\n",
       "2784     24.0   6.5  3.526299   1.0   3.75   6.5   9.25  12.0\n",
       "2785      3.0   9.0  1.000000   8.0   8.50   9.0   9.50  10.0\n",
       "2786      9.0   5.0  2.738613   1.0   3.00   5.0   7.00   9.0\n",
       "2787      6.0   3.5  1.870829   1.0   2.25   3.5   4.75   6.0\n",
       "2788      7.0   9.0  2.160247   6.0   7.50   9.0  10.50  12.0\n",
       "\n",
       "[2381 rows x 8 columns]"
      ]
     },
     "execution_count": 43,
     "metadata": {},
     "output_type": "execute_result"
    }
   ],
   "source": [
    "months_worked.describe()"
   ]
  },
  {
   "cell_type": "markdown",
   "id": "4192a0ba",
   "metadata": {},
   "source": [
    "NUMBER OF MONTHS WORKED BY AN EMPLOYEE CAN BE A USEFUL TOOL FOR THE COMPANY TO ASSESS\n",
    "WHETHER AN EMPLOYEE IS A JOB HOPPER OR NOT"
   ]
  },
  {
   "cell_type": "markdown",
   "id": "daca0758",
   "metadata": {},
   "source": [
    "SPLITTING THE DATASET INTO TRAIN, VALIDATION AND TEST SET"
   ]
  },
  {
   "cell_type": "code",
   "execution_count": 44,
   "id": "404438a4",
   "metadata": {},
   "outputs": [],
   "source": [
    "from sklearn.model_selection import train_test_split\n",
    "X_train, X_test, y_train, y_test = train_test_split(df_train,df_train['Emp_ID'],test_size = 0.25, random_state= 42)\n",
    "from sklearn.model_selection import train_test_split\n",
    "X_val, X_test, y_val, y_test = train_test_split(X_train,y_train,test_size = 0.2, random_state= 42)"
   ]
  },
  {
   "cell_type": "markdown",
   "id": "27adc857",
   "metadata": {},
   "source": [
    "FEATURE SCALING"
   ]
  },
  {
   "cell_type": "code",
   "execution_count": 45,
   "id": "e466011f",
   "metadata": {},
   "outputs": [],
   "source": [
    "from sklearn.preprocessing import StandardScaler\n",
    "sc = StandardScaler()\n",
    "X_train = sc.fit_transform(X_train)\n",
    "X_test = sc.transform(X_test)"
   ]
  },
  {
   "cell_type": "markdown",
   "id": "b571332e",
   "metadata": {},
   "source": [
    "# MODEL TRAINING"
   ]
  },
  {
   "cell_type": "markdown",
   "id": "2effc05d",
   "metadata": {},
   "source": [
    "# LOGISTIC REGRESSION"
   ]
  },
  {
   "cell_type": "markdown",
   "id": "99c4c6bb",
   "metadata": {},
   "source": [
    "Training the Logistic Regression model on the Training set"
   ]
  },
  {
   "cell_type": "code",
   "execution_count": 46,
   "id": "adf0ad0c",
   "metadata": {},
   "outputs": [
    {
     "name": "stderr",
     "output_type": "stream",
     "text": [
      "E:\\CONDA\\lib\\site-packages\\sklearn\\linear_model\\_logistic.py:763: ConvergenceWarning: lbfgs failed to converge (status=1):\n",
      "STOP: TOTAL NO. of ITERATIONS REACHED LIMIT.\n",
      "\n",
      "Increase the number of iterations (max_iter) or scale the data as shown in:\n",
      "    https://scikit-learn.org/stable/modules/preprocessing.html\n",
      "Please also refer to the documentation for alternative solver options:\n",
      "    https://scikit-learn.org/stable/modules/linear_model.html#logistic-regression\n",
      "  n_iter_i = _check_optimize_result(\n"
     ]
    },
    {
     "data": {
      "text/plain": [
       "LogisticRegression(random_state=0)"
      ]
     },
     "execution_count": 46,
     "metadata": {},
     "output_type": "execute_result"
    }
   ],
   "source": [
    "from sklearn.linear_model import LogisticRegression\n",
    "classifier = LogisticRegression(random_state = 0)\n",
    "classifier.fit(X_train, y_train)"
   ]
  },
  {
   "cell_type": "markdown",
   "id": "54948572",
   "metadata": {},
   "source": [
    "PREDICTING THE TEST SET RESULTS"
   ]
  },
  {
   "cell_type": "code",
   "execution_count": 47,
   "id": "4c92c0d1",
   "metadata": {},
   "outputs": [],
   "source": [
    "y_pred = classifier.predict(X_test)\n"
   ]
  },
  {
   "cell_type": "markdown",
   "id": "752d4d9a",
   "metadata": {},
   "source": [
    "PERFORMANCE METRICS"
   ]
  },
  {
   "cell_type": "code",
   "execution_count": 48,
   "id": "ad74bfca",
   "metadata": {},
   "outputs": [
    {
     "data": {
      "text/plain": [
       "0.44415524764375564"
      ]
     },
     "execution_count": 48,
     "metadata": {},
     "output_type": "execute_result"
    }
   ],
   "source": [
    "from sklearn.metrics import f1_score\n",
    "y_true = y_test\n",
    "y_pred\n",
    "f1_score(y_true, y_pred, average='macro')\n"
   ]
  },
  {
   "cell_type": "markdown",
   "id": "02c2c8cf",
   "metadata": {},
   "source": [
    "# DECISION TREE"
   ]
  },
  {
   "cell_type": "markdown",
   "id": "d579eaeb",
   "metadata": {},
   "source": [
    "Training the Decision Tree model on the Training set"
   ]
  },
  {
   "cell_type": "code",
   "execution_count": 49,
   "id": "581fe5ce",
   "metadata": {},
   "outputs": [],
   "source": [
    "from sklearn.tree import DecisionTreeClassifier\n",
    "clf = DecisionTreeClassifier(random_state = 0)\n",
    "clf.fit(X_train, y_train)\n",
    "y_pred = clf.predict(X_test)"
   ]
  },
  {
   "cell_type": "markdown",
   "id": "daefe7cc",
   "metadata": {},
   "source": [
    "PERFORMANCE METRICS"
   ]
  },
  {
   "cell_type": "code",
   "execution_count": 50,
   "id": "9e3beaea",
   "metadata": {},
   "outputs": [
    {
     "data": {
      "text/plain": [
       "1.0"
      ]
     },
     "execution_count": 50,
     "metadata": {},
     "output_type": "execute_result"
    }
   ],
   "source": [
    "from sklearn.metrics import f1_score\n",
    "y_true = y_test\n",
    "y_pred\n",
    "f1_score(y_true, y_pred, average='macro')\n"
   ]
  },
  {
   "cell_type": "markdown",
   "id": "63c4378e",
   "metadata": {},
   "source": [
    "# RANDOM FOREST"
   ]
  },
  {
   "cell_type": "markdown",
   "id": "1f12622a",
   "metadata": {},
   "source": [
    "Training the Random Forest model on the Training set"
   ]
  },
  {
   "cell_type": "code",
   "execution_count": 51,
   "id": "2b7fca1e",
   "metadata": {},
   "outputs": [
    {
     "data": {
      "text/plain": [
       "RandomForestClassifier(max_depth=2, random_state=0)"
      ]
     },
     "execution_count": 51,
     "metadata": {},
     "output_type": "execute_result"
    }
   ],
   "source": [
    "from sklearn.ensemble import RandomForestClassifier\n",
    "clf = RandomForestClassifier(max_depth=2, random_state=0)\n",
    "clf.fit(X_train, y_train)"
   ]
  },
  {
   "cell_type": "markdown",
   "id": "da8d9339",
   "metadata": {},
   "source": [
    "PERFORMANCE METRICS"
   ]
  },
  {
   "cell_type": "code",
   "execution_count": 52,
   "id": "a3802ef4",
   "metadata": {},
   "outputs": [
    {
     "data": {
      "text/plain": [
       "1.0"
      ]
     },
     "execution_count": 52,
     "metadata": {},
     "output_type": "execute_result"
    }
   ],
   "source": [
    "from sklearn.metrics import f1_score\n",
    "y_true = y_test\n",
    "y_pred\n",
    "f1_score(y_true, y_pred, average='macro')\n"
   ]
  },
  {
   "cell_type": "markdown",
   "id": "105ea1bf",
   "metadata": {},
   "source": [
    "# K-NEAREST NEIGHBOUR"
   ]
  },
  {
   "cell_type": "markdown",
   "id": "fdfad834",
   "metadata": {},
   "source": [
    "Training the KNN model on the training set"
   ]
  },
  {
   "cell_type": "code",
   "execution_count": 53,
   "id": "97aa7388",
   "metadata": {},
   "outputs": [
    {
     "data": {
      "text/plain": [
       "KNeighborsClassifier(n_neighbors=7)"
      ]
     },
     "execution_count": 53,
     "metadata": {},
     "output_type": "execute_result"
    }
   ],
   "source": [
    "from sklearn.neighbors import KNeighborsClassifier\n",
    "knn = KNeighborsClassifier(n_neighbors=7)\n",
    "knn.fit(X_train, y_train)"
   ]
  },
  {
   "cell_type": "code",
   "execution_count": 54,
   "id": "4911b893",
   "metadata": {},
   "outputs": [
    {
     "data": {
      "text/plain": [
       "1.0"
      ]
     },
     "execution_count": 54,
     "metadata": {},
     "output_type": "execute_result"
    }
   ],
   "source": [
    "from sklearn.metrics import f1_score\n",
    "y_true = y_test\n",
    "y_pred\n",
    "f1_score(y_true, y_pred, average='macro')\n"
   ]
  },
  {
   "cell_type": "markdown",
   "id": "db71e502",
   "metadata": {},
   "source": [
    "# SUPPORT VECTOR MACHINES"
   ]
  },
  {
   "cell_type": "markdown",
   "id": "c64740a1",
   "metadata": {},
   "source": [
    "Training the SVM model on the training set"
   ]
  },
  {
   "cell_type": "code",
   "execution_count": 55,
   "id": "bc7fd96e",
   "metadata": {},
   "outputs": [
    {
     "data": {
      "text/plain": [
       "SVC(kernel='linear')"
      ]
     },
     "execution_count": 55,
     "metadata": {},
     "output_type": "execute_result"
    }
   ],
   "source": [
    "from sklearn.svm import SVC  \n",
    "clf = SVC(kernel='linear') \n",
    "clf.fit(X_train, y_train)"
   ]
  },
  {
   "cell_type": "markdown",
   "id": "485b4895",
   "metadata": {},
   "source": [
    "PERFORMANCE METRICS"
   ]
  },
  {
   "cell_type": "code",
   "execution_count": 56,
   "id": "4fd49987",
   "metadata": {},
   "outputs": [
    {
     "data": {
      "text/plain": [
       "1.0"
      ]
     },
     "execution_count": 56,
     "metadata": {},
     "output_type": "execute_result"
    }
   ],
   "source": [
    "from sklearn.metrics import f1_score\n",
    "y_true = y_test\n",
    "y_pred\n",
    "f1_score(y_true, y_pred, average='macro')\n"
   ]
  },
  {
   "cell_type": "markdown",
   "id": "17701de9",
   "metadata": {},
   "source": [
    "HENCE WE CAN SEE FROM HERE THAT ALL TREE BASED ALGORITHMS AS WELL AS OTHER SUPERVISED MACHINE LEARNING\n",
    "ALGORITHMS TEND TO OVERFIT THE MODEL HENCE HYPERPARAMETER TUNING IS REQUIRED.\n",
    "IN CASE OF LOGISTIC REGRESSION, THE RESULT CAN BE IMPROVED."
   ]
  },
  {
   "cell_type": "code",
   "execution_count": 59,
   "id": "1c689536",
   "metadata": {},
   "outputs": [],
   "source": [
    "df_train.to_csv('STAFF_RETENTION_AV.csv',index=False)"
   ]
  },
  {
   "cell_type": "code",
   "execution_count": null,
   "id": "a873c950",
   "metadata": {},
   "outputs": [],
   "source": []
  }
 ],
 "metadata": {
  "kernelspec": {
   "display_name": "Python 3",
   "language": "python",
   "name": "python3"
  },
  "language_info": {
   "codemirror_mode": {
    "name": "ipython",
    "version": 3
   },
   "file_extension": ".py",
   "mimetype": "text/x-python",
   "name": "python",
   "nbconvert_exporter": "python",
   "pygments_lexer": "ipython3",
   "version": "3.8.8"
  }
 },
 "nbformat": 4,
 "nbformat_minor": 5
}
